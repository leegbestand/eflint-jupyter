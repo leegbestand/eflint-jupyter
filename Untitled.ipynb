{
 "cells": [
  {
   "cell_type": "code",
   "execution_count": 1,
   "id": "1a8c8499",
   "metadata": {},
   "outputs": [
    {
     "data": {
      "text/plain": [
       "Query failed\n",
       "Query success\n"
      ]
     },
     "metadata": {},
     "output_type": "display_data"
    }
   ],
   "source": [
    "Fact user.\n",
    "+user(Damian).\n",
    "?user(Bob).\n",
    "?user(Damian)."
   ]
  },
  {
   "cell_type": "code",
   "execution_count": 2,
   "id": "e8c22d35",
   "metadata": {},
   "outputs": [
    {
     "data": {
      "text/plain": []
     },
     "metadata": {},
     "output_type": "display_data"
    }
   ],
   "source": [
    "Invariant user-d : user(Damian)"
   ]
  },
  {
   "cell_type": "code",
   "execution_count": 3,
   "id": "055d2257",
   "metadata": {},
   "outputs": [
    {
     "data": {
      "text/plain": [
       "violated invariant!: user-d\n"
      ]
     },
     "metadata": {},
     "output_type": "display_data"
    }
   ],
   "source": [
    "-user"
   ]
  },
  {
   "cell_type": "code",
   "execution_count": 4,
   "id": "8540a960",
   "metadata": {},
   "outputs": [
    {
     "data": {
      "text/plain": [
       "violated invariant!: user-d\n",
       "violated invariant!: user-b\n",
       "violated invariant!: user-d\n"
      ]
     },
     "metadata": {},
     "output_type": "display_data"
    }
   ],
   "source": [
    "Invariant user-b : user(Bob)"
   ]
  },
  {
   "cell_type": "code",
   "execution_count": 5,
   "id": "a4323489",
   "metadata": {},
   "outputs": [
    {
     "data": {
      "text/plain": [
       "violated invariant!: user-d\n"
      ]
     },
     "metadata": {},
     "output_type": "display_data"
    }
   ],
   "source": [
    "+user(Bob)"
   ]
  },
  {
   "cell_type": "code",
   "execution_count": 6,
   "id": "4dadc3c9",
   "metadata": {},
   "outputs": [
    {
     "data": {
      "text/plain": [
       "violated invariant!: user-d\n"
      ]
     },
     "metadata": {},
     "output_type": "display_data"
    }
   ],
   "source": [
    "+user(Jan)"
   ]
  },
  {
   "cell_type": "code",
   "execution_count": 7,
   "id": "11349724",
   "metadata": {},
   "outputs": [
    {
     "data": {
      "text/plain": []
     },
     "metadata": {},
     "output_type": "display_data"
    }
   ],
   "source": [
    "+user(Damian)"
   ]
  },
  {
   "cell_type": "code",
   "execution_count": 8,
   "id": "00317890",
   "metadata": {},
   "outputs": [
    {
     "data": {
      "text/plain": [
       "violated invariant!: user-b\n",
       "violated invariant!: user-d\n"
      ]
     },
     "metadata": {},
     "output_type": "display_data"
    }
   ],
   "source": [
    "-user"
   ]
  },
  {
   "cell_type": "code",
   "execution_count": 9,
   "id": "e604b810",
   "metadata": {},
   "outputs": [
    {
     "data": {
      "text/plain": [
       "\"Unsuccessful parse, showing 1 furthest matches\\ndid not match at position 2, where we find IDentifiDud\\n    Found IDentifiDud AKA altid(\\\"IDentifiDud\\\")\\n    expected:\\n        . AKA keychar('.')\\n        Act AKA keyword(\\\"Act\\\")\\n        Actor AKA keyword(\\\"Actor\\\")\\n        Derived externally AKA keyword(\\\"Derived externally\\\")\\n        Derived from AKA keyword(\\\"Derived from\\\")\\n        Duty AKA keyword(\\\"Duty\\\")\\n        Event AKA keyword(\\\"Event\\\")\\n        Extend AKA keyword(\\\"Extend\\\")\\n        Fact AKA keyword(\\\"Fact\\\")\\n        Holds AKA keyword(\\\"Holds\\\")\\n        Holds when AKA keyword(\\\"Holds when\\\")\\n        Identified by AKA keyword(\\\"Identified by\\\")\\n        Invariant AKA keyword(\\\"Invariant\\\")\\n        Physical AKA keyword(\\\"Physical\\\")\\n        Placeholder AKA keyword(\\\"Placeholder\\\")\\n        Predicate AKA keyword(\\\"Predicate\\\")\\n        Present AKA keyword(\\\"Present\\\")\\n        Present when AKA keyword(\\\"Present when\\\")\\n        When AKA keyword(\\\"When\\\")\\n        Where AKA keyword(\\\"Where\\\")\\n         AKA <end-of-string>\"\n"
      ]
     },
     "metadata": {},
     "output_type": "display_data"
    }
   ],
   "source": [
    "Fact mm IDentifiDud"
   ]
  },
  {
   "cell_type": "code",
   "execution_count": null,
   "id": "7e8e7e9d",
   "metadata": {},
   "outputs": [],
   "source": []
  }
 ],
 "metadata": {
  "kernelspec": {
   "display_name": "eFLINT",
   "language": "eFLINT",
   "name": "eflint"
  },
  "language_info": {
   "codemirror_mode": "null",
   "file_extension": ".txt",
   "mimetype": "x/eflint",
   "name": "funcalc",
   "pygments_lexer": "Text",
   "version": "1.0.0"
  }
 },
 "nbformat": 4,
 "nbformat_minor": 5
}
