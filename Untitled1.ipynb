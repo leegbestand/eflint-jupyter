{
 "cells": [
  {
   "cell_type": "code",
   "execution_count": 1,
   "id": "0d30e0af",
   "metadata": {},
   "outputs": [
    {
     "data": {
      "text/plain": []
     },
     "metadata": {},
     "output_type": "display_data"
    }
   ],
   "source": [
    "Fact x"
   ]
  },
  {
   "cell_type": "code",
   "execution_count": 2,
   "id": "36036629",
   "metadata": {},
   "outputs": [
    {
     "data": {
      "text/plain": []
     },
     "metadata": {},
     "output_type": "display_data"
    }
   ],
   "source": [
    "+x(Damian)"
   ]
  },
  {
   "cell_type": "code",
   "execution_count": 3,
   "id": "52c3da20",
   "metadata": {},
   "outputs": [
    {
     "data": {
      "text/plain": [
       "Query success\n"
      ]
     },
     "metadata": {},
     "output_type": "display_data"
    }
   ],
   "source": [
    "?x(Damian)"
   ]
  },
  {
   "cell_type": "code",
   "execution_count": 6,
   "id": "9831af0e",
   "metadata": {},
   "outputs": [
    {
     "data": {
      "text/plain": []
     },
     "metadata": {},
     "output_type": "display_data"
    }
   ],
   "source": [
    "Invariant a : x(Damian)"
   ]
  },
  {
   "cell_type": "code",
   "execution_count": 7,
   "id": "28c071e8",
   "metadata": {},
   "outputs": [
    {
     "data": {
      "text/plain": [
       "violated invariant!: a\n"
      ]
     },
     "metadata": {},
     "output_type": "display_data"
    }
   ],
   "source": [
    "-x"
   ]
  },
  {
   "cell_type": "code",
   "execution_count": 8,
   "id": "d9b80a44",
   "metadata": {},
   "outputs": [
    {
     "data": {
      "text/plain": [
       "violated invariant!: a\n",
       "violated invariant!: a\n",
       "violated invariant!: b\n"
      ]
     },
     "metadata": {},
     "output_type": "display_data"
    }
   ],
   "source": [
    "Invariant b : x(Thomas)"
   ]
  },
  {
   "cell_type": "code",
   "execution_count": null,
   "id": "e8e3e195",
   "metadata": {},
   "outputs": [],
   "source": []
  }
 ],
 "metadata": {
  "kernelspec": {
   "display_name": "eFLINT",
   "language": "eFLINT",
   "name": "eflint"
  },
  "language_info": {
   "codemirror_mode": "null",
   "file_extension": ".txt",
   "mimetype": "x/eflint",
   "name": "funcalc",
   "pygments_lexer": "Text",
   "version": "1.0.0"
  }
 },
 "nbformat": 4,
 "nbformat_minor": 5
}
