{
 "cells": [
  {
   "cell_type": "code",
   "execution_count": 1,
   "id": "52d3cc8e",
   "metadata": {},
   "outputs": [
    {
     "data": {
      "text/plain": []
     },
     "metadata": {},
     "output_type": "display_data"
    }
   ],
   "source": [
    "Fact x"
   ]
  },
  {
   "cell_type": "code",
   "execution_count": 2,
   "id": "3c9048e8",
   "metadata": {},
   "outputs": [
    {
     "data": {
      "text/plain": []
     },
     "metadata": {},
     "output_type": "display_data"
    }
   ],
   "source": [
    "+x(Damian)"
   ]
  },
  {
   "cell_type": "code",
   "execution_count": 3,
   "id": "7b12a6f4",
   "metadata": {},
   "outputs": [
    {
     "data": {
      "text/plain": [
       "Query success\n"
      ]
     },
     "metadata": {},
     "output_type": "display_data"
    }
   ],
   "source": [
    "?x(Damian)"
   ]
  },
  {
   "cell_type": "code",
   "execution_count": 4,
   "id": "c3c0709e",
   "metadata": {},
   "outputs": [
    {
     "data": {
      "text/plain": [
       "Unsuccessful parse, showing 1 furthest matches\n",
       "did not match at position 2, where we find BY\n",
       "    Found BY AKA altid(\"BY\")\n",
       "    expected:\n",
       "        . AKA keychar('.')\n",
       "        Act AKA keyword(\"Act\")\n",
       "        Actor AKA keyword(\"Actor\")\n",
       "        Closed AKA keyword(\"Closed\")\n",
       "        Conditioned by AKA keyword(\"Conditioned by\")\n",
       "        Derived from AKA keyword(\"Derived from\")\n",
       "        Duty AKA keyword(\"Duty\")\n",
       "        Event AKA keyword(\"Event\")\n",
       "        Extend AKA keyword(\"Extend\")\n",
       "        Fact AKA keyword(\"Fact\")\n",
       "        Holds AKA keyword(\"Holds\")\n",
       "        Holds when AKA keyword(\"Holds when\")\n",
       "        Identified by AKA keyword(\"Identified by\")\n",
       "        Invariant AKA keyword(\"Invariant\")\n",
       "        Open AKA keyword(\"Open\")\n",
       "        Placeholder AKA keyword(\"Placeholder\")\n",
       "        Predicate AKA keyword(\"Predicate\")\n",
       "        Present AKA keyword(\"Present\")\n",
       "        Present when AKA keyword(\"Present when\")\n",
       "        When AKA keyword(\"When\")\n",
       "        Where AKA keyword(\"Where\")\n",
       "         AKA <end-of-string>\n"
      ]
     },
     "metadata": {},
     "output_type": "display_data"
    }
   ],
   "source": []
  },
  {
   "cell_type": "code",
   "execution_count": null,
   "id": "040909ac",
   "metadata": {},
   "outputs": [],
   "source": []
  }
 ],
 "metadata": {
  "kernelspec": {
   "display_name": "eFLINT",
   "language": "eFLINT",
   "name": "eflint"
  },
  "language_info": {
   "codemirror_mode": "null",
   "file_extension": ".txt",
   "mimetype": "x/eflint",
   "name": "funcalc",
   "pygments_lexer": "Text",
   "version": "1.0.0"
  }
 },
 "nbformat": 4,
 "nbformat_minor": 5
}
