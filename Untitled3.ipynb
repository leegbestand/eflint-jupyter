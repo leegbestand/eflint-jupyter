{
 "cells": [
  {
   "cell_type": "code",
   "execution_count": 1,
   "id": "04c161e4",
   "metadata": {},
   "outputs": [
    {
     "data": {
      "text/plain": []
     },
     "metadata": {},
     "output_type": "display_data"
    }
   ],
   "source": [
    "Fact x"
   ]
  },
  {
   "cell_type": "code",
   "execution_count": 2,
   "id": "cb498ae5",
   "metadata": {},
   "outputs": [
    {
     "data": {
      "text/plain": [
       "+x(\"Damian\")\n"
      ]
     },
     "metadata": {},
     "output_type": "display_data"
    },
    {
     "data": {
      "text/plain": []
     },
     "metadata": {},
     "output_type": "display_data"
    }
   ],
   "source": [
    "+x(Damian)"
   ]
  },
  {
   "cell_type": "code",
   "execution_count": 3,
   "id": "e084d4c5",
   "metadata": {},
   "outputs": [
    {
     "data": {
      "text/plain": [
       "+x(\"Kees\")\n"
      ]
     },
     "metadata": {},
     "output_type": "display_data"
    },
    {
     "data": {
      "text/plain": []
     },
     "metadata": {},
     "output_type": "display_data"
    }
   ],
   "source": [
    "+x(Kees)"
   ]
  },
  {
   "cell_type": "code",
   "execution_count": null,
   "id": "cbdd8d91",
   "metadata": {},
   "outputs": [],
   "source": [
    "Fact actor\n",
    "\n",
    "Fact done\n",
    "\n",
    "Act do Actor actor\n",
    "  Creates done(actor).\n",
    "\n",
    "?!done(Alice).\n",
    "do(Alice)."
   ]
  },
  {
   "cell_type": "code",
   "execution_count": 2,
   "id": "3b548803",
   "metadata": {},
   "outputs": [
    {
     "data": {
      "text/plain": [
       "+done(\"Bob\")\n"
      ]
     },
     "metadata": {},
     "output_type": "display_data"
    },
    {
     "data": {
      "text/plain": [
       "Query success\n",
       "Query success\n",
       "\n",
       "  disabled : do(actor(\"Bob\"))\n",
       "Query success\n",
       "Query success\n"
      ]
     },
     "metadata": {},
     "output_type": "display_data"
    }
   ],
   "source": [
    "?done(Alice).\n",
    "?!done(Bob).\n",
    "do(Bob).\n",
    "?done(Bob).\n",
    "?done(\"Bob\")."
   ]
  },
  {
   "cell_type": "code",
   "execution_count": 3,
   "id": "4352a4fd",
   "metadata": {},
   "outputs": [
    {
     "data": {
      "text/plain": []
     },
     "metadata": {},
     "output_type": "display_data"
    },
    {
     "data": {
      "text/plain": [
       "\n",
       "  disabled : do(actor(\"Bob\"))\n"
      ]
     },
     "metadata": {},
     "output_type": "display_data"
    }
   ],
   "source": [
    "do(Bob)"
   ]
  },
  {
   "cell_type": "code",
   "execution_count": 4,
   "id": "471f5717",
   "metadata": {},
   "outputs": [
    {
     "data": {
      "text/plain": [
       "+done(\"Johan\")\n"
      ]
     },
     "metadata": {},
     "output_type": "display_data"
    },
    {
     "data": {
      "text/plain": []
     },
     "metadata": {},
     "output_type": "display_data"
    }
   ],
   "source": [
    "+done(\"Johan\")"
   ]
  },
  {
   "cell_type": "code",
   "execution_count": null,
   "id": "733d3b73",
   "metadata": {},
   "outputs": [],
   "source": []
  }
 ],
 "metadata": {
  "kernelspec": {
   "display_name": "eFLINT",
   "language": "eFLINT",
   "name": "eflint"
  },
  "language_info": {
   "codemirror_mode": "null",
   "file_extension": ".txt",
   "mimetype": "x/eflint",
   "name": "funcalc",
   "pygments_lexer": "Text",
   "version": "1.0.0"
  }
 },
 "nbformat": 4,
 "nbformat_minor": 5
}
