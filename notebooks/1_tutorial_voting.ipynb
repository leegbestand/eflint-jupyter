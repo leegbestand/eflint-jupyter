{
 "cells": [
  {
   "cell_type": "markdown",
   "metadata": {},
   "source": [
    "# eFLINT Tutorial - Voting\n",
    "_(C) L. Thomas van Binsbergen -- Informatics Institute, University of Amsterdam_  \n",
    "\n",
    "_The purpose of this document is to informally explain the core features of eFLINT through an example. The worked out specification is not necessarily representative of any real-world policy._"
   ]
  },
  {
   "cell_type": "markdown",
   "metadata": {},
   "source": [
    "## Fact-type declarations\n",
    "An eFLINT specification is a collection of type declarations of which the _fact-type_ declarations are used for knowledge representation. The following fact-type declarations introduce the types `citizen`, `candidate` and `administrator`:"
   ]
  },
  {
   "cell_type": "code",
   "execution_count": 1,
   "metadata": {},
   "outputs": [
    {
     "data": {
      "text/plain": []
     },
     "metadata": {},
     "output_type": "display_data"
    }
   ],
   "source": [
    "Fact citizen\n",
    "Fact candidate\n",
    "Fact administrator"
   ]
  },
  {
   "cell_type": "markdown",
   "metadata": {},
   "source": [
    "Depending on where they occur, identifiers such as `citizen`, `candidate`, and `administrator` can play different roles. For example, when occurring in an expression, an identifier is a placeholder for an instance of the type with the same name. Identifiers can also be used to refer to types themselves and to constructors for creating instances of types, as is shown later. \n",
    "\n",
    "In the previous fragment, the declared types are all *atomic*, with its _instances_ coming from the set of (all) strings. To make this explicit, the following type declarations could have been used instead (i.e. are equivalent), indicating that the instances of the types are identified by string literals:"
   ]
  },
  {
   "cell_type": "code",
   "execution_count": 2,
   "metadata": {},
   "outputs": [
    {
     "data": {
      "text/plain": []
     },
     "metadata": {},
     "output_type": "display_data"
    }
   ],
   "source": [
    "Fact citizen Identified by String\n",
    "Fact candidate Identified by String\n",
    "Fact administrator Identified by String"
   ]
  },
  {
   "cell_type": "markdown",
   "metadata": {},
   "source": [
    "The following code fragments are examples of expressions refering to instances of a (fact-)type: `citizen(Alice)`, `candidate(\"John\")` and `administrator(\"abc1234\")`. String literals are arbitrary sequences of characters between doubles quotes, or are a sequence of alphanumeric characters starting with a capital alphabetical. As such, `\"Alice\"` and `Alice` are referring to the same string literal. Besides string literals, also integer literals are available (`Identified by Int`).\n",
    "\n",
    "The instances of a fact-type, *facts*, can be considered as variables to which a truth-value can be assigned. As such, a fact can be considered to hold true, hold false or be undetermined in a given situation. The following _statement_ makes the instance `citizen(Alice)` hold true:"
   ]
  },
  {
   "cell_type": "code",
   "execution_count": 3,
   "metadata": {},
   "outputs": [
    {
     "data": {
      "text/plain": [
       "+citizen(\"Alice\")\n"
      ]
     },
     "metadata": {},
     "output_type": "display_data"
    },
    {
     "data": {
      "text/plain": []
     },
     "metadata": {},
     "output_type": "display_data"
    }
   ],
   "source": [
    "+citizen(Alice)"
   ]
  },
  {
   "cell_type": "markdown",
   "metadata": {},
   "source": [
    "To confirm the successful assignment, we can write a *query*, a Boolean expressing following a question mark:"
   ]
  },
  {
   "cell_type": "code",
   "execution_count": 4,
   "metadata": {},
   "outputs": [
    {
     "data": {
      "text/plain": [
       "Query success\n",
       "Query failed\n"
      ]
     },
     "metadata": {},
     "output_type": "display_data"
    }
   ],
   "source": [
    "?citizen(Alice).\n",
    "?citizen(Bob)"
   ]
  },
  {
   "cell_type": "markdown",
   "metadata": {},
   "source": [
    "The first query succeeded, because of the earlier assignment. The second query failed because the instance `citizen(Bob)` is still undetermined and, by default, fact-types are **closed**, meaning that their instances are implicitly hold false unless otherwise stated (types can also be declared as open types to which the closed-world assumption does not apply, see `eflint3-features/5_open_types`). Note also that in the above code cells, the two (query) statements are seperated by a full stop (`.`)."
   ]
  },
  {
   "cell_type": "markdown",
   "metadata": {},
   "source": [
    "The statement `-citizen(Alice).` assigns False to the instance `citizen(Alice)` after which it holds false. Alternative, the statement `~citizen(Alice).` can be used to remove the truth assignment to the instance. Because the type `citizen` is closed, the effects of these statements are the same in this case."
   ]
  },
  {
   "cell_type": "markdown",
   "metadata": {},
   "source": [
    "Rather than strings or integers, the instances of *composite* types are record-values: tuples with a names for their *fields*, the components of the tuple. The following type declarations instroduce two fact-types whose instances have exactly one field:"
   ]
  },
  {
   "cell_type": "code",
   "execution_count": 5,
   "metadata": {},
   "outputs": [
    {
     "data": {
      "text/plain": []
     },
     "metadata": {},
     "output_type": "display_data"
    }
   ],
   "source": [
    "Fact voter Identified by citizen\n",
    "Fact winner Identified by candidate"
   ]
  },
  {
   "cell_type": "markdown",
   "metadata": {},
   "source": [
    "In both declarations, the *type expression* following `Identified by` consists of a single type name, simultaneously indicating that this name is used as the name for the field and that the field holds instances of the referred type. \n",
    "\n",
    "The expression `voter(citizen(Alice))` denotes the instance of `voter` in which the field named `citizen` holds the instance `citizen(Alice)`. The expression `voter(Alice)` is equivalent thanks to implicit coercion of the string `Alice` to an instance of `citizen`. Also equivalent is `voter(citizen=Alice)`; altough in this expression the field is explicitly named. As we shall see later, this form of constructor application makes it possible to write actual parameters in any order (when there are multiple fields) and even omitted.\n",
    "\n",
    "The intuition behind the fact-type `voter` is that it serves as a predicate to indicate which citizens have voting rights, i.e. `Alice` has voting rights if and only if `voter(Alice)` holds true. That is, the following statement makes Alice a voter:"
   ]
  },
  {
   "cell_type": "code",
   "execution_count": 6,
   "metadata": {},
   "outputs": [
    {
     "data": {
      "text/plain": [
       "+voter(citizen(\"Alice\"))\n"
      ]
     },
     "metadata": {},
     "output_type": "display_data"
    },
    {
     "data": {
      "text/plain": []
     },
     "metadata": {},
     "output_type": "display_data"
    }
   ],
   "source": [
    "+voter(Alice)."
   ]
  },
  {
   "cell_type": "markdown",
   "metadata": {},
   "source": [
    "Similarly, `winner` is a predicate over candidates, determining which of the candidates has won the vote, if any.\n",
    "\n",
    "A type expression of a type declaration referring to multiple types, separated by `*`, determines that the instances of the declarated type are records with multiple fields (i.e. `*` is like the *Cartesian product* over two or more types)."
   ]
  },
  {
   "cell_type": "code",
   "execution_count": 7,
   "metadata": {},
   "outputs": [
    {
     "data": {
      "text/plain": []
     },
     "metadata": {},
     "output_type": "display_data"
    }
   ],
   "source": [
    "Fact vote Identified by citizen * candidate"
   ]
  },
  {
   "cell_type": "markdown",
   "metadata": {},
   "source": [
    "The fact-types `voter` and `winner` can be seen as describing predicates over citizens and candidates, both identified by strings, respectively. In line with this interpretation, the type `vote` describes a binary relation between citizens and candidates. Instances of `vote` that hold true in a given situation represent proof (e.g. submitted ballots) that the instance's citizen has placed a vote on the instance's candidate."
   ]
  },
  {
   "cell_type": "code",
   "execution_count": 8,
   "metadata": {},
   "outputs": [
    {
     "data": {
      "text/plain": [
       "~voter(citizen(\"Alice\"))\n"
      ]
     },
     "metadata": {},
     "output_type": "display_data"
    },
    {
     "data": {
      "text/plain": []
     },
     "metadata": {},
     "output_type": "display_data"
    }
   ],
   "source": [
    "~voter(Alice)"
   ]
  },
  {
   "cell_type": "markdown",
   "metadata": {},
   "source": [
    "## Expressions\n",
    "\n",
    "### Variables and placeholders\n",
    "An identifier `x` appearing in an expression is a variable for the type `x`, i.e. a placeholder for an instance of the type `x`. Additional variables for the type `x` can be introduced by so-called placeholder declarations. For example, in the following fragment, `other-candidate` is introduced as an alias for the identifier `candidate` and is thus a valid variable for the type `candidate`:"
   ]
  },
  {
   "cell_type": "code",
   "execution_count": 9,
   "metadata": {},
   "outputs": [
    {
     "data": {
      "text/plain": []
     },
     "metadata": {},
     "output_type": "display_data"
    }
   ],
   "source": [
    "Placeholder other-candidate For candidate"
   ]
  },
  {
   "cell_type": "markdown",
   "metadata": {},
   "source": [
    "Without explicit `Placeholder`-declarations, fact identifiers can be decorated with indices and prime symbols to form variables. For example, `candidate1`, `candidate2` and `candidate'` are all variables for the type  `candidate`. \n",
    "\n",
    "The field names of records correspond to a type name, and the fields are instances of that type. For example, the following fact declaration contains a record-type with two different variables of the same type. "
   ]
  },
  {
   "cell_type": "code",
   "execution_count": 10,
   "metadata": {},
   "outputs": [
    {
     "data": {
      "text/plain": []
     },
     "metadata": {},
     "output_type": "display_data"
    }
   ],
   "source": [
    "Placeholder proxy For citizen\n",
    "Fact proxy-of Identified by proxy * citizen"
   ]
  },
  {
   "cell_type": "markdown",
   "metadata": {},
   "source": [
    "Both fields are instances of the type `citizen`. However, because the field names are different, it is possible to refer the different field values by their name. \n",
    "\n",
    "### Projection\n",
    "\n",
    "The projection operator `<EXPR>.<ID>` makes it possible to refer to field values. If `<EXPR>` evaluates to a record with a field name `<ID>`, then the expression `<EXPR>.<ID>` evaluates to the record's field with name `<ID>`. The static semantics of the language guarantees that `<EXPR>` evaluates to a record with field `<ID>`.\n",
    "\n",
    "### Constructor application\n",
    "\n",
    "An identifier plays the role of a constructor (for creating instances) when provided with arguments as part of a constructor-application. For example, the expression `voter(Alice)` applies the identifier `voter` as a constructor to the string `Alice`. That `Alice` is a valid instance of `citizen` is inferred from the type of `voter`.  The same instance is also produced by the expression `voter(citizen(Alice))`. The inner constructor application is an example of a applying an identifier as a constructor to a literal to create an instance of a primitive type. \n",
    "\n",
    "An other example of constructor application is `vote(Alice,Chloe)`, constructing an instance representing the potential fact that `Alice`  has voted on `Chloe`. In this example, the relative positioning of the arguments is important. The first argument must be a valid instance of `citizen` and the second argument must be a valid instance of `candidate`, as determined by the type of `vote`. The type of `vote` also determines that exactly two arguments need to be given, as its record-type has two fields.\n",
    "\n",
    "In another style of constructor application, the arguments are labelled with the field names for which they provide instances. For example, in the expression `voter(candidate = Alice)`, it is made explicit that `Alice` is to take up the role of `candidate` in the created instance for `voter`. There are two benefits to using this style: arguments can be written in any order, and arguments can be omitted. When an argument is omitted, the constructor application is automatically completed with variables for the missing identifiers. For example `vote(candidate = Chloe)` is equivalent to `vote(candidate = Chloe, citizen = citizen)`. Note that both these expressions are only valid if the variable `citizen` is bound by the context in which they appear. Depending on where an expression with unbound variables occurs, the variables are implicitly bound, as discussed later. This style of constructor application is only available for constructors of composite types.\n",
    "\n",
    "Other expressions are formed by the application of an operator to sub-expressions or consist of a literal such as an string or integer. Boolean and numerical operators are available as they are familiar from Java and other general-purpose languages.\n",
    "\n",
    "### Quanitifiers and iterating expressions\n",
    "\n",
    "As suggested before, every occurrence of a variable must be 'bound' by the context in which the variable occurs. Bindings are introduced, for example, by the `Exists` operator, written as `(Exists x1,...,xn : e)`, where `x1,…,xn` are ‘binders’ -- variables for which bindings will be introduced -- and `e` is a Boolean expression. All occurrences of the variables `x1,...,xn` are bound inside `e`. The semantics of `(Exists x1,...,xn : e)` are to determine whether there is a valid combination of instances for the variables `x1,...,xn` so that `e` evaluates to `True`, returning `True` if this is the case and `False` otherwise. The expression `(Exists x1,...,xn : e)` is nondeterministic in the sense that `e` is evaluated an unspecified amount of times and in an unspecified order. However, it is 'effectively deterministic' because the outcome of evaluation is the same regardless (assuming implementations are sound with respect to the given semantics). The `Forall` operator is written similarly and returns True only if all combinators of instances of the variables `x1,...xn` result in `e` evaluating to True. \n",
    "\n",
    "When the possible bindings of a variable `x` to instances of its type `t` are enumerated it might be the case that `t` has an unbounded domain (e.g. `String`, representing the domain of all strings). In this case all instances of `t` that hold true in the current situation are enumerated instead. This practical design decision makes it possible to use eFLINT specifications both at runtime (when domains are typically unbounded) and statically with a known or chosen bounded domains. Besides `Exists` and `Forall`, also the `Foreach` operator, introduced below, provides bindings by enumerating instances."
   ]
  },
  {
   "cell_type": "markdown",
   "metadata": {},
   "source": [
    "### Instance expressions\n",
    "\n",
    "An expression evaluating to an instance of some type is referred to as an *instance expression*. By using the `Foreach` operator, written as `(Foreach x1,...,xn: e)`, an instance expression `e` is evaluated multiple times, for all combinators of bindings to `x1,...xn`, collecting all instances produced by these evaluations. As such, an occurrence of `Foreach` yields zero, one or more instances. The `Foreach` operator can be used only as the outermost operator of certain clauses, such as `Derived from`, `Creates` and `Terminates` (introduced below), and as the top-level sub-expression of an aggregator (see below). This design decision ensures the language is 'effectively deterministic'.\n",
    "\n",
    "The `When` operator, written between its operands as `<EXPR1> When <EXPR2>`, is used to filter out unwanted instances. To evaluate `<EXPR1> When <EXPR2>`, instance `<EXPR1>` and Boolean `<EXPR2>` are evaluated in the same context (with the same active bindings) and gives the single result of `<EXPR1>` but only when `<EXPR2>` evaluates to true. As such, `<EXPR1> When <EXPR2>` evaluates to at most one instance. "
   ]
  },
  {
   "cell_type": "markdown",
   "metadata": {},
   "source": [
    "### Aggregators\n",
    "\n",
    "The `Exists` and `Forall` operators demonstrate a mechanism in which a sub-expression is evaluated repeatedly in different context, with each context binding the binders to a different combination of valid instances of the types of those variables. In the case of `Exists` and `Forall`, the sub-expression must be a Boolean expression. The `Foreach`-operator has the same syntax as `Exists` and `Forall` (except for the keyword name) and expressions formed by the `Foreach`-operator may produce multiple result instances, at most one for each evaluation of its sub-expression. However the `Foreach`-operator can only be used in certain places, for example in combination with an aggregator. \n",
    "\n",
    "An aggregator is an operator that combines the possibly many results produced by `Foreach` into a single value. For example, the `Count`-operator is an aggregator that counts the number of evaluation results produced by `Foreach`. The `Sum`-operator expects `Foreach` to produce a collection of numbers, and computes the sum of these numbers.\n",
    "\n",
    "As an example, the following declaration introduces `number of votes` as a derived fact:"
   ]
  },
  {
   "cell_type": "code",
   "execution_count": 11,
   "metadata": {},
   "outputs": [
    {
     "data": {
      "text/plain": [
       "+number-of-votes(0)\n"
      ]
     },
     "metadata": {},
     "output_type": "display_data"
    },
    {
     "data": {
      "text/plain": []
     },
     "metadata": {},
     "output_type": "display_data"
    }
   ],
   "source": [
    "Fact number-of-votes Identified by Int\n",
    "  Derived from Count(Foreach vote : vote When Holds(vote))"
   ]
  },
  {
   "cell_type": "markdown",
   "metadata": {},
   "source": [
    "In this example, only instances of `vote` that hold true must be counted, as indicated by the occurrence of `Holds(vote)` as the second operand of `When`. In general, the `When` operator has two operands and either evaluates to the result of evaluating the first operand or fails if the second operand evaluates to `False`. Applications of `Foreach`, `Exists` or `Forall` do not consider the results of failing evaluations. Alternative, it can be said that failing evaluations have no result."
   ]
  },
  {
   "cell_type": "markdown",
   "metadata": {},
   "source": [
    "## Derivation clauses\n",
    "\n",
    "### Holds when\n",
    "As explained earlier, the truth-values assigned to instances can be modified through statements beginning with `+`, `-` or `~`. Later we shall see that events and actions can be defined that also modify truth-assignments when they are triggered. This section explains that the truth of an instance of a type can also be *derived* by one or more derivation rules attached to the type.\n",
    "\n",
    "An example of type declaration with a derivation rule, in this case specified with a `Holds when` clause, is provided by `has voted`:"
   ]
  },
  {
   "cell_type": "code",
   "execution_count": 12,
   "metadata": {},
   "outputs": [
    {
     "data": {
      "text/plain": []
     },
     "metadata": {},
     "output_type": "display_data"
    }
   ],
   "source": [
    "Fact has-voted Identified by citizen\n",
    "  Holds when (Exists candidate : vote(citizen,candidate))"
   ]
  },
  {
   "cell_type": "markdown",
   "metadata": {},
   "source": [
    "To determine whether an instance `has-voted(<X>)` is derived, the expression `(Exists candidate: vote(citizen,candidate)` is evaluted with the (formal) parameter `citizen` bound to the value provided by the (actual) parameter `<X>`. If the evaluation yields True, then `has-voted(X)` is derived by the derivation rule. \n",
    "\n",
    "The following declaration of `has-voted` is equivalent. "
   ]
  },
  {
   "cell_type": "code",
   "execution_count": 13,
   "metadata": {},
   "outputs": [
    {
     "data": {
      "text/plain": []
     },
     "metadata": {},
     "output_type": "display_data"
    }
   ],
   "source": [
    "Fact has-voted Identified by citizen\n",
    "  Holds when vote(citizen, candidate)"
   ]
  },
  {
   "cell_type": "markdown",
   "metadata": {},
   "source": [
    "This is because every variable appearing in a Boolean expression within a clause of a type, for which holds that the variable is not one of the formal parameters of the type, is implicitly bound by `Exists`. \n",
    "\n",
    "In the evaluation of a derivation rule for a primitive type, the name of the type is bound to the instance for which the rule is being evaluated (see also `eflint3-features/4_primitive_holds_when`."
   ]
  },
  {
   "cell_type": "markdown",
   "metadata": {},
   "source": [
    "### Derived from\n",
    "\n",
    "Another form of derivation rule is written as a `Derived from` clause as part of a type declaration. In fact, the `Holds When` clause is syntactic sugar for a particular common usage of `Derived from`. \n",
    "\n",
    "#### Holds when conversion for composite types\n",
    "If `<ID>` is a type name with parameters `<X1...Xn>` and if `<EXPR>` is a Boolean expression, then the clause `Holds When <EXPR>` attached to `<ID>` is equivalent to the `Derived from` clause written as `Derived from <ID>(<X1>,...,<Xn>) When <EXPR>`. The expression written in the clause is an instance expression evaluating to zero, one, or more instances of a type. If the instance expression of a `Derived from` clause does not produce instances of the type to which the clause is attached, then the declaration is ill-typed. All instances computed by the expression of a `Derived from` clause are considered derived by the clause. Parameters are not bound during its evaluation, meaning that in this case, the parameters `<X1...Xn>` are not bound. In any instance expression written as a part of a clause of a type are implicitly bound by an occurrence of `Foreach` (see the section on instance expressions above). \n",
    "\n",
    "#### for primitive types\n",
    "If `<ID>` is a type name of a primitive type and if `<EXPR>` is a Boolean expression, then the clause `Holds When <EXPR>` attached to `<ID>` is equivalent to the `Derived from` clause written as `Derived from <ID> When <EXPR>`."
   ]
  },
  {
   "cell_type": "markdown",
   "metadata": {},
   "source": [
    "### Predicates and invariants\n",
    "\n",
    "A **predicate** is a special fact-type declaration with a derivation rule expressing the condition under which the predicate is considered to hold. Rather than a predicate over some atom, it should be a considered a predicate over the current situation (knowledge base). For example, the following predicate determines whether the vote has concluded (by looking for a winner)."
   ]
  },
  {
   "cell_type": "code",
   "execution_count": 14,
   "metadata": {},
   "outputs": [
    {
     "data": {
      "text/plain": [
       "+voters-done()\n"
      ]
     },
     "metadata": {},
     "output_type": "display_data"
    },
    {
     "data": {
      "text/plain": []
     },
     "metadata": {},
     "output_type": "display_data"
    }
   ],
   "source": [
    "Predicate vote-concluded When (Exists candidate : winner(candidate))\n",
    "Predicate voters-done    When !(Exists citizen : voter() && !has-voted())"
   ]
  },
  {
   "cell_type": "markdown",
   "metadata": {},
   "source": [
    "The instance `vote-concluded()` holds true when the predicate holds."
   ]
  },
  {
   "cell_type": "markdown",
   "metadata": {},
   "source": [
    "An **invariant** is a special kind of predicate that is expected to hold true in every possible situation. For example, the following invariant says that there will always be at most one winner."
   ]
  },
  {
   "cell_type": "code",
   "execution_count": 15,
   "metadata": {},
   "outputs": [
    {
     "data": {
      "text/plain": [
       "+at-most-one-winner()\n"
      ]
     },
     "metadata": {},
     "output_type": "display_data"
    },
    {
     "data": {
      "text/plain": []
     },
     "metadata": {},
     "output_type": "display_data"
    }
   ],
   "source": [
    "Invariant at-most-one-winner When \n",
    "  Not(Exists winner, winner': winner != winner')"
   ]
  },
  {
   "cell_type": "markdown",
   "metadata": {},
   "source": [
    "The instance `at-most-one-winner()` (see the output above) holds true when the invariant holds. Any invariant that does not hold is reported."
   ]
  },
  {
   "cell_type": "code",
   "execution_count": 16,
   "metadata": {},
   "outputs": [
    {
     "data": {
      "text/plain": [
       "Violated invariant!: at-most-one-winner\n"
      ]
     },
     "metadata": {},
     "output_type": "display_data"
    }
   ],
   "source": [
    "+winner(Chloe). +winner(David). ~winner(Chloe). ~winner(David)."
   ]
  },
  {
   "cell_type": "markdown",
   "metadata": {},
   "source": [
    "## Events\n",
    "\n",
    "An event-type declaration describes a composite type whose parameters are introduced with an optional `Related to` clause consisting of a comma-separated list of field names. The instances of an event-type are referred to as *events*. An event can be *triggered* and has *effects*. \n",
    "\n",
    "### Post-conditions and effects\n",
    "\n",
    "The following event-type declaration declares an event `fire` that destroys all votes (i.e. truth assignments to instances of the type `vote`). The event has no parameters (no `Related to` clause)."
   ]
  },
  {
   "cell_type": "code",
   "execution_count": 17,
   "metadata": {},
   "outputs": [
    {
     "data": {
      "text/plain": []
     },
     "metadata": {},
     "output_type": "display_data"
    }
   ],
   "source": [
    "Event fire \n",
    "  Obfuscates vote"
   ]
  },
  {
   "cell_type": "markdown",
   "metadata": {},
   "source": [
    "The `Obfuscates` clause consists of an instance expression `vote`. The variable `vote` is implicitly bound by a `Foreach`. When evaluated, the expression thus evaluates to all instances of the type `vote` (which is determined by the domain and/or the knowledge base, see the section on \"instance expressions\" above). When the event is triggered, the expression is evaluated and all resulting instances have their truth-assigment removed from the knowledge base. Triggering an event is done by executing a statement consisting of an instance expression evaluating to instances of an event-type (for example `fire().` below)."
   ]
  },
  {
   "cell_type": "code",
   "execution_count": 18,
   "metadata": {},
   "outputs": [
    {
     "data": {
      "text/plain": [
       "~number-of-votes(0)\n",
       "+number-of-votes(2)\n",
       "+vote(citizen(\"Alice\"),candidate(\"Chloe\"))\n",
       "+vote(citizen(\"Bob\"),candidate(\"David\"))\n"
      ]
     },
     "metadata": {},
     "output_type": "display_data"
    },
    {
     "data": {
      "text/plain": []
     },
     "metadata": {},
     "output_type": "display_data"
    }
   ],
   "source": [
    "+vote(Alice,Chloe).\n",
    "+vote(Bob,David)."
   ]
  },
  {
   "cell_type": "code",
   "execution_count": 19,
   "metadata": {},
   "outputs": [
    {
     "data": {
      "text/plain": [
       "~number-of-votes(2)\n",
       "~vote(citizen(\"Alice\"),candidate(\"Chloe\"))\n",
       "~vote(citizen(\"Bob\"),candidate(\"David\"))\n",
       "+number-of-votes(0)\n"
      ]
     },
     "metadata": {},
     "output_type": "display_data"
    },
    {
     "data": {
      "text/plain": [
       "Executed transition: fire()\n"
      ]
     },
     "metadata": {},
     "output_type": "display_data"
    }
   ],
   "source": [
    "fire()."
   ]
  },
  {
   "cell_type": "markdown",
   "metadata": {},
   "source": [
    "Event-types are used to describe changes to a the current set of facts that are **not** caused by a (known) human actor. For such changes, act-types are used instead (see below).\n",
    "\n",
    "An `Obfuscates` clause is referred to as a post-condition. Other post-conditions are provided as `Terminates` and `Creates` clauses, modifying the truth-values of the instances their expressions evaluate to to False and True respectively."
   ]
  },
  {
   "cell_type": "markdown",
   "metadata": {},
   "source": [
    "## Acts\n",
    "\n",
    "An act-type declaration is a type declaration that like an event-type declaration describes instances (referred to as *acts* or *actions*) which can be triggered and has effects specified through post-conditions. Like fact-type declarations, an act-type declarations can have derivation clauses. The parameters of an act-type are determined by a `Related to` clause preceded by (optional) `Actor` and `Recipient` clauses. If the `Actor` clause is omitted, a field name `author` (with instances taken from the domain of all strings). The `Recipient` clause is used to describe 'power-liability' relations between the mentioned actors."
   ]
  },
  {
   "cell_type": "code",
   "execution_count": 20,
   "metadata": {},
   "outputs": [
    {
     "data": {
      "text/plain": []
     },
     "metadata": {},
     "output_type": "display_data"
    }
   ],
   "source": [
    "Act cast-vote\n",
    "  Actor citizen\n",
    "  Recipient candidate\n",
    "  Holds when voter()\n",
    "  Conditioned by Not(has-voted())\n",
    "  Creates vote()"
   ]
  },
  {
   "cell_type": "markdown",
   "metadata": {},
   "source": [
    "Unlike events, and like duties (see below), actions can be violated. This is the case when an action is triggered which is not enabled (i.e. does not hold true and does not satisfy its conditions)."
   ]
  },
  {
   "cell_type": "code",
   "execution_count": 21,
   "metadata": {},
   "outputs": [
    {
     "data": {
      "text/plain": [
       "~number-of-votes(0)\n",
       "+number-of-votes(1)\n",
       "+vote(citizen(\"Johnny\"),candidate(\"Johnny\"))\n"
      ]
     },
     "metadata": {},
     "output_type": "display_data"
    },
    {
     "data": {
      "text/plain": [
       "Executed transition: cast-vote(citizen(\"Johnny\"),candidate(\"Johnny\"))\n",
       "Disabled action: cast-vote(citizen(\"Johnny\"),candidate(\"Johnny\"))\n"
      ]
     },
     "metadata": {},
     "output_type": "display_data"
    }
   ],
   "source": [
    "cast-vote(Johnny,Johnny)."
   ]
  },
  {
   "cell_type": "code",
   "execution_count": 22,
   "metadata": {},
   "outputs": [
    {
     "data": {
      "text/plain": [
       "~number-of-votes(1)\n",
       "-vote(citizen(\"Johnny\"),candidate(\"Johnny\"))\n",
       "+number-of-votes(0)\n"
      ]
     },
     "metadata": {},
     "output_type": "display_data"
    },
    {
     "data": {
      "text/plain": []
     },
     "metadata": {},
     "output_type": "display_data"
    }
   ],
   "source": [
    "-vote(Johnny,Johnny)"
   ]
  },
  {
   "cell_type": "markdown",
   "metadata": {},
   "source": [
    "## Duties\n",
    "\n",
    "A duty declaration is a type declaration describing the structure of a particular 'duty-claim' relation between two actors: a 'holder' (`Holder`) and a 'claimant' (`Claimant`). The relation may also involve zero or more 'objects' introduced by a `Related to` clause with a list of comma-separated field names. Together, the actors and the objects form the parameters of the duty-type and describe the domain of record-values forming the instances of the type.\n",
    "\n",
    "If an instance of a duty holds true, then the instance is an element of the duty-claim relation described by the duty (thus stating that the holder of the duty indeed holds the duty towards the claimant). An example is provided by the following fragment:"
   ]
  },
  {
   "cell_type": "code",
   "execution_count": 23,
   "metadata": {},
   "outputs": [
    {
     "data": {
      "text/plain": []
     },
     "metadata": {},
     "output_type": "display_data"
    }
   ],
   "source": [
    "Duty duty-to-vote Holder citizen Claimant administrator\n",
    "  Violated when vote-concluded()"
   ]
  },
  {
   "cell_type": "markdown",
   "metadata": {},
   "source": [
    "The duty-claim relation described by this declaration has no objects. The instances of the `duty-to-vote` type thus has two fields names `citizen` and `adminstrator`. \n",
    "\n",
    "The `Violated when` clauses that can be associated with duty-type declarations determine the conditions under which the duty is considered violated. In this case, the duty is violated when it holds true and when a winner has been announced (i.e. the vote has concluded)."
   ]
  },
  {
   "cell_type": "markdown",
   "metadata": {},
   "source": [
    "The duty to vote is created by the adminstrator, when a citizen has been given voting rights."
   ]
  },
  {
   "cell_type": "code",
   "execution_count": 24,
   "metadata": {},
   "outputs": [
    {
     "data": {
      "text/plain": []
     },
     "metadata": {},
     "output_type": "display_data"
    }
   ],
   "source": [
    "Act enable-vote\n",
    "  Actor administrator\n",
    "  Recipient citizen\n",
    "  Holds when administrator\n",
    "  Conditioned by !voter() && !vote-concluded()\n",
    "  Creates voter(),\n",
    "          duty-to-vote()"
   ]
  },
  {
   "cell_type": "markdown",
   "metadata": {},
   "source": [
    "The duty to vote, held by a voter, is satisfied when the voter executes the `cast-vote` action. However, as introduced above, this is not yet specified. To do so, the `Extend` keyword is used."
   ]
  },
  {
   "cell_type": "markdown",
   "metadata": {},
   "source": [
    "## Extending declarations\n",
    "\n",
    "The `Extend` keyword can be used to add additional clauses to an already existing type. The `Extend` keyword is written as the start of a type-extension declaration, followed by either `Fact`, `Act`, `Event`, or `Duty`, indicating which kind of type is extended. The latter is used to syntactically guarantee only valid clauses are written in the remainder of the type-extension declaration. To ensure `cast-vote` removes to duty to vote of a voter, a `Terminates` clause is added to the type."
   ]
  },
  {
   "cell_type": "code",
   "execution_count": 25,
   "metadata": {},
   "outputs": [
    {
     "data": {
      "text/plain": []
     },
     "metadata": {},
     "output_type": "display_data"
    }
   ],
   "source": [
    "Extend Act cast-vote\n",
    "  Terminates duty-to-vote()"
   ]
  },
  {
   "cell_type": "markdown",
   "metadata": {},
   "source": [
    "## Running and analysing scenarios\n",
    "\n",
    "#### completing the example\n",
    "Many of the discussed features come together in the declaration of declare winner given below and completing this example policy description."
   ]
  },
  {
   "cell_type": "code",
   "execution_count": 26,
   "metadata": {},
   "outputs": [
    {
     "data": {
      "text/plain": []
     },
     "metadata": {},
     "output_type": "display_data"
    }
   ],
   "source": [
    "Act declare-winner\n",
    "  Actor administrator\n",
    "  Recipient candidate\n",
    "  Holds when administrator && candidate\n",
    "  Conditioned by Not(vote-concluded()) && voters-done() &&\n",
    "   (Forall other-candidate : \n",
    "      Count(Foreach vote : vote When vote && vote.candidate == other-candidate) < \n",
    "      Count(Foreach vote : vote When vote && vote.candidate == candidate)\n",
    "     When other-candidate != candidate)\n",
    "  Creates winner(candidate)"
   ]
  },
  {
   "cell_type": "markdown",
   "metadata": {},
   "source": [
    "The declaration of `declare-winner` determines that an administrator has the power to declare a particular candidate as the winner of the vote if the vote has not been concluded (there is no winner yet), if all of the voters have voted and if all other candidates have (strictly) less votes. The first line starting with `Count` produces the number of voters that have voted for any `other-candidate`. The second line starting with `Count` produces the number of voters that have voted for `candidate`."
   ]
  },
  {
   "cell_type": "markdown",
   "metadata": {},
   "source": [
    "### Triggering actions and events\n",
    "\n",
    "A scenario is written as a sequence of statements, step-by-step changing the knowledge base. A scenario is considered compliant if none of the statements resulted in the violation of an action or a duty.\n",
    "\n",
    "A scenario typically begins with stating a number facts as axioms, effectively creating an initial state."
   ]
  },
  {
   "cell_type": "code",
   "execution_count": 27,
   "metadata": {},
   "outputs": [
    {
     "data": {
      "text/plain": [
       "+administrator(\"Admin\")\n",
       "+citizen(\"Bob\")\n",
       "+citizen(\"Chloe\")\n",
       "+candidate(\"David\")\n",
       "+candidate(\"Eve\")\n",
       "+enable-vote(administrator(\"Admin\"),citizen(\"Alice\"))\n",
       "+enable-vote(administrator(\"Admin\"),citizen(\"Bob\"))\n",
       "+enable-vote(administrator(\"Admin\"),citizen(\"Chloe\"))\n"
      ]
     },
     "metadata": {},
     "output_type": "display_data"
    },
    {
     "data": {
      "text/plain": []
     },
     "metadata": {},
     "output_type": "display_data"
    }
   ],
   "source": [
    "+citizen(Alice). ~voter(Alice). +citizen(Bob). +citizen(Chloe). \n",
    "+candidate(David). +candidate(Eve).\n",
    "+administrator(Admin)."
   ]
  },
  {
   "cell_type": "markdown",
   "metadata": {},
   "source": [
    "The following statements express a scenario in which Alice, Bob and Chloe have been giving voting rights by the Admin and Alice votes for Eve and Bob votes for David."
   ]
  },
  {
   "cell_type": "code",
   "execution_count": 28,
   "metadata": {},
   "outputs": [
    {
     "data": {
      "text/plain": [
       "~number-of-votes(0)\n",
       "~voters-done()\n",
       "~enable-vote(administrator(\"Admin\"),citizen(\"Alice\"))\n",
       "~enable-vote(administrator(\"Admin\"),citizen(\"Bob\"))\n",
       "~enable-vote(administrator(\"Admin\"),citizen(\"Chloe\"))\n",
       "-duty-to-vote(citizen(\"Alice\"),administrator(\"Admin\"))\n",
       "-duty-to-vote(citizen(\"Bob\"),administrator(\"Admin\"))\n",
       "+number-of-votes(2)\n",
       "+has-voted(citizen(\"Alice\"))\n",
       "+voter(citizen(\"Alice\"))\n",
       "+vote(citizen(\"Alice\"),candidate(\"Eve\"))\n",
       "+has-voted(citizen(\"Bob\"))\n",
       "+voter(citizen(\"Bob\"))\n",
       "+vote(citizen(\"Bob\"),candidate(\"David\"))\n",
       "+voter(citizen(\"Chloe\"))\n",
       "+duty-to-vote(citizen(\"Chloe\"),administrator(\"Admin\"))\n"
      ]
     },
     "metadata": {},
     "output_type": "display_data"
    },
    {
     "data": {
      "text/plain": [
       "Executed transition: enable-vote(administrator(\"Admin\"),citizen(\"Alice\"))\n",
       "Executed transition: enable-vote(administrator(\"Admin\"),citizen(\"Bob\"))\n",
       "Executed transition: enable-vote(administrator(\"Admin\"),citizen(\"Chloe\"))\n",
       "Executed transition: cast-vote(citizen(\"Alice\"),candidate(\"Eve\"))\n",
       "Executed transition: cast-vote(citizen(\"Bob\"),candidate(\"David\"))\n"
      ]
     },
     "metadata": {},
     "output_type": "display_data"
    }
   ],
   "source": [
    "enable-vote(Admin,Alice).\n",
    "enable-vote(Admin,Bob).\n",
    "enable-vote(Admin,Chloe).\n",
    "cast-vote(Alice, Eve).\n",
    "cast-vote(Bob, David)."
   ]
  },
  {
   "cell_type": "markdown",
   "metadata": {},
   "source": [
    "### Running queries\n",
    "\n",
    "Queries can be used to test the current knowledge base. Queries are written as `?<EXPR>`, where `<EXPR>` is a Boolean expression. The exclamation mark (`!`) in the expression below is logical negation."
   ]
  },
  {
   "cell_type": "code",
   "execution_count": 29,
   "metadata": {},
   "outputs": [
    {
     "data": {
      "text/plain": [
       "Query success\n",
       "Query success\n"
      ]
     },
     "metadata": {},
     "output_type": "display_data"
    }
   ],
   "source": [
    "?!Enabled(declare-winner(Admin, David)).\n",
    "?!Enabled(declare-winner(Admin, Eve))."
   ]
  },
  {
   "cell_type": "markdown",
   "metadata": {},
   "source": [
    "No winner can be declared because both David and Eve have an equal amount of votes. If the scenario continues with Chloe voting for David, we shall see that David can be declared winner, after which the vote has concluded."
   ]
  },
  {
   "cell_type": "code",
   "execution_count": 30,
   "metadata": {},
   "outputs": [
    {
     "data": {
      "text/plain": [
       "~number-of-votes(2)\n",
       "-duty-to-vote(citizen(\"Chloe\"),administrator(\"Admin\"))\n",
       "+number-of-votes(3)\n",
       "+voters-done()\n",
       "+has-voted(citizen(\"Chloe\"))\n",
       "+vote(citizen(\"Chloe\"),candidate(\"David\"))\n"
      ]
     },
     "metadata": {},
     "output_type": "display_data"
    },
    {
     "data": {
      "text/plain": [
       "Executed transition: cast-vote(citizen(\"Chloe\"),candidate(\"David\"))\n",
       "Query success\n",
       "Query success\n"
      ]
     },
     "metadata": {},
     "output_type": "display_data"
    }
   ],
   "source": [
    "cast-vote(Chloe, David).\n",
    "?Enabled(declare-winner(Admin, David)).\n",
    "?!Enabled(declare-winner(Admin, Eve))."
   ]
  },
  {
   "cell_type": "code",
   "execution_count": 31,
   "metadata": {},
   "outputs": [
    {
     "data": {
      "text/plain": [
       "+vote-concluded()\n",
       "+winner(candidate(\"David\"))\n"
      ]
     },
     "metadata": {},
     "output_type": "display_data"
    },
    {
     "data": {
      "text/plain": [
       "Executed transition: declare-winner(administrator(\"Admin\"),candidate(\"David\"))\n"
      ]
     },
     "metadata": {},
     "output_type": "display_data"
    }
   ],
   "source": [
    "declare-winner(Admin, David)"
   ]
  }
 ],
 "metadata": {
  "kernelspec": {
   "display_name": "eFLINT",
   "language": "eFLINT",
   "name": "eflint_kernel"
  },
  "language_info": {
   "codemirror_mode": "null",
   "file_extension": ".txt",
   "mimetype": "x/eflint",
   "name": "eFLINT",
   "pygments_lexer": "Text",
   "version": "1.0.0"
  }
 },
 "nbformat": 4,
 "nbformat_minor": 4
}
