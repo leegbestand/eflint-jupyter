{
 "cells": [
  {
   "cell_type": "markdown",
   "metadata": {},
   "source": [
    "# 1. eFLINT-2.0 features\n",
    "\n",
    "Since eFLINT-2.0 it is possible to mix and match (type-)declarations, statements and queries. The term *phrase* is used to refer to an eFLINT fragment that is either a declaration, statement or a query. \n",
    "\n",
    "The `#include` and `#require` directives can be used to include files. The difference between 'include' and 'require' is that a `#require` directive is only executed when the included file was not included earlier in the current session. When a file is included more than once, all phrases within the file are executed a second time. This may result in unexpected outcomes, e.g. resulting in type-declarations or truth-assignments being overwritten unexpectedly. \n",
    "\n",
    "```\n",
    "#include \"example_includes.eflint\". // file included for the first time\n",
    "#require \"example_includes.eflint\". // not included again\n",
    "```\n",
    "\n",
    "Including files is not supported in the eFLINT notebooks and is therefore not demonstrated here."
   ]
  },
  {
   "cell_type": "markdown",
   "metadata": {},
   "source": [
    "In the remainder of this notebook we explore an example related to bidding in an action, demonstrating various of the features of eflint-2.0."
   ]
  },
  {
   "cell_type": "code",
   "execution_count": 1,
   "metadata": {},
   "outputs": [
    {
     "data": {
      "text/plain": [
       "+min-price-of(object(\"Clock\"),price(200))\n",
       "+min-price-of(object(\"Painting\"),price(400))\n",
       "+min-price-of(object(\"Watch\"),price(100))\n"
      ]
     },
     "metadata": {},
     "output_type": "display_data"
    },
    {
     "data": {
      "text/plain": []
     },
     "metadata": {},
     "output_type": "display_data"
    }
   ],
   "source": [
    "Fact bidder\n",
    "Fact object Identified by Watch, Clock, Painting\n",
    "\n",
    "Fact price Identified by Int\n",
    "Fact min-price-of Identified by object * price.\n",
    "\n",
    "+min-price-of(Watch, 100).\n",
    "+min-price-of(Clock, 200).\n",
    "+min-price-of(Painting, 400).\n",
    "\n",
    "Fact bid Identified by bidder * object * price"
   ]
  },
  {
   "cell_type": "markdown",
   "metadata": {},
   "source": [
    "## 1.1 Type extensions\n",
    "\n",
    "Since eFLINT-2.0 it is possible to write type-extensions that add additional clauses to types declared previously. (See `eflint3-features/1_clauses` for an explanation of exactly which clauses can be added by type-extensions.)\n",
    "\n",
    "The following type-extension adds a derivation rule that automatically adds a bid from actor Alice to for every object at the minimal price."
   ]
  },
  {
   "cell_type": "code",
   "execution_count": 2,
   "metadata": {},
   "outputs": [
    {
     "data": {
      "text/plain": [
       "+bid(bidder(\"Alice\"),object(\"Clock\"),price(200))\n",
       "+bid(bidder(\"Alice\"),object(\"Painting\"),price(400))\n",
       "+bid(bidder(\"Alice\"),object(\"Watch\"),price(100))\n"
      ]
     },
     "metadata": {},
     "output_type": "display_data"
    },
    {
     "data": {
      "text/plain": []
     },
     "metadata": {},
     "output_type": "display_data"
    }
   ],
   "source": [
    "Extend Fact bid \n",
    "  Derived from bid(Alice, min-price-of.object, min-price-of.price)"
   ]
  },
  {
   "cell_type": "markdown",
   "metadata": {},
   "source": [
    "The following fragment redefines the type `bid`, adding an additional field, a counter, keeping track of how many bids have been place on the object before the current bid."
   ]
  },
  {
   "cell_type": "code",
   "execution_count": 3,
   "metadata": {},
   "outputs": [
    {
     "data": {
      "text/plain": [
       "~bid(bidder(\"Alice\"),object(\"Clock\"),price(200))\n",
       "~bid(bidder(\"Alice\"),object(\"Painting\"),price(400))\n",
       "~bid(bidder(\"Alice\"),object(\"Watch\"),price(100))\n"
      ]
     },
     "metadata": {},
     "output_type": "display_data"
    },
    {
     "data": {
      "text/plain": []
     },
     "metadata": {},
     "output_type": "display_data"
    }
   ],
   "source": [
    "Fact bids Identified by Int\n",
    "Fact bid Identified by bidder * object * price * bids"
   ]
  },
  {
   "cell_type": "markdown",
   "metadata": {},
   "source": [
    "As the output above shows, replacing the original type declaration also removes the (derivation) clauses added by the earlier type-extension."
   ]
  },
  {
   "cell_type": "markdown",
   "metadata": {},
   "source": [
    "The following action describes the *power* of placing a bid on an object given a price."
   ]
  },
  {
   "cell_type": "code",
   "execution_count": 4,
   "metadata": {},
   "outputs": [
    {
     "data": {
      "text/plain": []
     },
     "metadata": {},
     "output_type": "display_data"
    }
   ],
   "source": [
    "Act place-bid Actor bidder Related to object, price\n",
    "  Holds when bidder\n",
    "  Conditioned by price > Max(Foreach bid: bid.price When bid.object == object)          // higher than current max\n",
    "  Creates bid(bidder, object, price, Count(Foreach bid: bid When bid.object == object)) // increase counter"
   ]
  },
  {
   "cell_type": "markdown",
   "metadata": {},
   "source": [
    "The auctioneer displays objects during the action."
   ]
  },
  {
   "cell_type": "code",
   "execution_count": 5,
   "metadata": {},
   "outputs": [
    {
     "data": {
      "text/plain": []
     },
     "metadata": {},
     "output_type": "display_data"
    }
   ],
   "source": [
    "Fact auctioneer\n",
    "Fact display Identified by object\n",
    "\n",
    "Act display-object Related to object\n",
    "  Holds when auctioneer(actor)\n",
    "  Terminates display\n",
    "  Creates display()"
   ]
  },
  {
   "cell_type": "markdown",
   "metadata": {},
   "source": [
    "## 1.2 Syncs with\n",
    "\n",
    "Act-type and event-type declarations can have `Syncs with` clauses that cause instances of these types to *synchronise* with other actions/events. A `Syncs with` clauses consists of an instance expression, evaluating to one or more instances of an act- or event-type, possibly using `Foreach`. Whenever an action or event is triggered, any `Syncs with` clauses associated with the type of the action or event is evaluated. The resulting actions and events are also triggered. In this way, the triggering action or event can be considered to inherit the effects of the other actions/events.\n",
    "\n",
    "In our example, the `Syncs with` clause is used to connect the physical connection of raising one's hand at an action is **qualified** as the power of placing a bid, but only when one is a bidder (and not, for example, the auctioneer) and when an object is on display. The price associated with that bid is always `10 * n` higher than the minimum price, where `n` is the number of bids previously placed on the object."
   ]
  },
  {
   "cell_type": "code",
   "execution_count": 6,
   "metadata": {},
   "outputs": [
    {
     "data": {
      "text/plain": []
     },
     "metadata": {},
     "output_type": "display_data"
    }
   ],
   "source": [
    "Act raise-hand \n",
    "  Holds when True // an actor can always raise their hand\n",
    "  Syncs with place-bid(bidder = actor\n",
    "                      ,object = object\n",
    "                      ,price  = min-price-of.price + 10 * (Count(Foreach bid: bid When bid.object == object))\n",
    "                      )\n",
    "        When bidder(actor)\n",
    "          && display(object)\n",
    "          && (min-price-of.object == object)"
   ]
  },
  {
   "cell_type": "markdown",
   "metadata": {},
   "source": [
    "The following code cells demonstrate the effects of synchronisation."
   ]
  },
  {
   "cell_type": "code",
   "execution_count": 7,
   "metadata": {},
   "outputs": [
    {
     "data": {
      "text/plain": [
       "-display(object(\"Clock\"))\n",
       "-display(object(\"Painting\"))\n",
       "+bidder(\"Alice\")\n",
       "+bidder(\"Bob\")\n",
       "+bidder(\"Chloe\")\n",
       "+auctioneer(\"David\")\n",
       "+display(object(\"Watch\"))\n"
      ]
     },
     "metadata": {},
     "output_type": "display_data"
    },
    {
     "data": {
      "text/plain": [
       "Executed transition: display-object(actor(\"David\"),object(\"Watch\"))\n",
       "\n"
      ]
     },
     "metadata": {},
     "output_type": "display_data"
    }
   ],
   "source": [
    "+bidder(Alice). +bidder(Bob). +bidder(Chloe).\n",
    "+auctioneer(David).\n",
    "\n",
    "display-object(David, Watch)."
   ]
  },
  {
   "cell_type": "code",
   "execution_count": 8,
   "metadata": {},
   "outputs": [
    {
     "data": {
      "text/plain": [
       "+bid(bidder(\"Alice\"),object(\"Watch\"),price(100),bids(0))\n"
      ]
     },
     "metadata": {},
     "output_type": "display_data"
    },
    {
     "data": {
      "text/plain": [
       "Executed transition: raise-hand(actor(\"Alice\"))\n",
       "Executed transition: place-bid(bidder(\"Alice\"),object(\"Watch\"),price(100))\n",
       "\n"
      ]
     },
     "metadata": {},
     "output_type": "display_data"
    }
   ],
   "source": [
    "raise-hand(Alice)."
   ]
  },
  {
   "cell_type": "code",
   "execution_count": 9,
   "metadata": {},
   "outputs": [
    {
     "data": {
      "text/plain": [
       "+bid(bidder(\"Bob\"),object(\"Watch\"),price(110),bids(1))\n"
      ]
     },
     "metadata": {},
     "output_type": "display_data"
    },
    {
     "data": {
      "text/plain": [
       "Executed transition: raise-hand(actor(\"Bob\"))\n",
       "Executed transition: place-bid(bidder(\"Bob\"),object(\"Watch\"),price(110))\n",
       "\n"
      ]
     },
     "metadata": {},
     "output_type": "display_data"
    }
   ],
   "source": [
    "raise-hand(Bob)."
   ]
  },
  {
   "cell_type": "code",
   "execution_count": 10,
   "metadata": {},
   "outputs": [
    {
     "data": {
      "text/plain": [
       "+bid(bidder(\"Alice\"),object(\"Watch\"),price(120),bids(2))\n"
      ]
     },
     "metadata": {},
     "output_type": "display_data"
    },
    {
     "data": {
      "text/plain": [
       "Executed transition: raise-hand(actor(\"Alice\"))\n",
       "Executed transition: place-bid(bidder(\"Alice\"),object(\"Watch\"),price(120))\n",
       "\n"
      ]
     },
     "metadata": {},
     "output_type": "display_data"
    }
   ],
   "source": [
    "raise-hand(Alice)."
   ]
  },
  {
   "cell_type": "code",
   "execution_count": 11,
   "metadata": {},
   "outputs": [
    {
     "data": {
      "text/plain": [
       "+bid(bidder(\"Chloe\"),object(\"Watch\"),price(130),bids(3))\n"
      ]
     },
     "metadata": {},
     "output_type": "display_data"
    },
    {
     "data": {
      "text/plain": [
       "Executed transition: raise-hand(actor(\"Chloe\"))\n",
       "Executed transition: place-bid(bidder(\"Chloe\"),object(\"Watch\"),price(130))\n",
       "\n"
      ]
     },
     "metadata": {},
     "output_type": "display_data"
    }
   ],
   "source": [
    "raise-hand(Chloe)."
   ]
  },
  {
   "cell_type": "code",
   "execution_count": 12,
   "metadata": {},
   "outputs": [
    {
     "data": {
      "text/plain": [
       "-display(object(\"Watch\"))\n",
       "+display(object(\"Painting\"))\n"
      ]
     },
     "metadata": {},
     "output_type": "display_data"
    },
    {
     "data": {
      "text/plain": [
       "Executed transition: display-object(actor(\"David\"),object(\"Painting\"))\n",
       "\n"
      ]
     },
     "metadata": {},
     "output_type": "display_data"
    }
   ],
   "source": [
    "display-object(David, Painting)."
   ]
  },
  {
   "cell_type": "code",
   "execution_count": 13,
   "metadata": {},
   "outputs": [
    {
     "data": {
      "text/plain": [
       "+bid(bidder(\"Alice\"),object(\"Painting\"),price(400),bids(0))\n"
      ]
     },
     "metadata": {},
     "output_type": "display_data"
    },
    {
     "data": {
      "text/plain": [
       "Executed transition: raise-hand(actor(\"Alice\"))\n",
       "Executed transition: place-bid(bidder(\"Alice\"),object(\"Painting\"),price(400))\n",
       "\n"
      ]
     },
     "metadata": {},
     "output_type": "display_data"
    }
   ],
   "source": [
    "raise-hand(Alice)."
   ]
  },
  {
   "cell_type": "code",
   "execution_count": 14,
   "metadata": {},
   "outputs": [
    {
     "data": {
      "text/plain": [
       "+bid(bidder(\"Chloe\"),object(\"Painting\"),price(410),bids(1))\n"
      ]
     },
     "metadata": {},
     "output_type": "display_data"
    },
    {
     "data": {
      "text/plain": [
       "Executed transition: raise-hand(actor(\"Chloe\"))\n",
       "Executed transition: place-bid(bidder(\"Chloe\"),object(\"Painting\"),price(410))\n",
       "\n"
      ]
     },
     "metadata": {},
     "output_type": "display_data"
    }
   ],
   "source": [
    "raise-hand(Chloe)."
   ]
  },
  {
   "cell_type": "code",
   "execution_count": 15,
   "metadata": {},
   "outputs": [
    {
     "data": {
      "text/plain": [
       "+bid(bidder(\"Bob\"),object(\"Painting\"),price(420),bids(2))\n"
      ]
     },
     "metadata": {},
     "output_type": "display_data"
    },
    {
     "data": {
      "text/plain": [
       "Executed transition: raise-hand(actor(\"Bob\"))\n",
       "Executed transition: place-bid(bidder(\"Bob\"),object(\"Painting\"),price(420))\n",
       "\n"
      ]
     },
     "metadata": {},
     "output_type": "display_data"
    }
   ],
   "source": [
    "raise-hand(Bob)."
   ]
  }
 ],
 "metadata": {
  "kernelspec": {
   "display_name": "eFLINT",
   "language": "eFLINT",
   "name": "eflint_kernel"
  },
  "language_info": {
   "codemirror_mode": "null",
   "file_extension": ".eflint",
   "mimetype": "x/eflint",
   "name": "eFLINT",
   "pygments_lexer": "Text",
   "version": "1.0.0"
  }
 },
 "nbformat": 4,
 "nbformat_minor": 4
}
