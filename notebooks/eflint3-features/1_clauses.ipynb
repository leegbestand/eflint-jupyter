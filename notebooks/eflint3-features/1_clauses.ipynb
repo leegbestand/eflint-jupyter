{
 "cells": [
  {
   "cell_type": "markdown",
   "metadata": {},
   "source": [
    "# 1. Flexible type-decarations\n",
    "Type-declarations consists of a number of clauses, some of which are used only in, for example, act- or duty-type declarations, whereas others can be used in all type-declarations. In the first versions of eFLINT, and depending on which kind of type is declared, certain clauses are mandatory and need to be written in a fixed order. In eflint-3.0, a lot more flexibility is introduced, making additional clauses optional and allowing many clauses to be written in any order. This notebook clarifies the exact rules applicable to the different kinds of type-declarations.\n",
    "\n",
    "Since eflint-2.0, there are two types of type-declarations: declarations that *introduce* a new type (or replace an existing one) and declarations that *extend* an existing type. The clauses that can be written in a type extension are henceforth refered to as the *accumulating* clauses, the other clauses are *domain-related* clauses. The sections of this notebook discuss the domain-related and accumulating clauses of the different kinds of type-declarations."
   ]
  },
  {
   "cell_type": "markdown",
   "metadata": {},
   "source": [
    "## 1.2 Fact-type declarations\n",
    "\n",
    "\n",
    "#### domain-related clauses\n",
    "\n",
    "The domain-related clauses establish the *domain* from which the values are taken that 'populate' the declared type, such as the `Identified by ...` clause of fact-type declarations. This clause is optional, with the default `Identified by String` being implicitly inserted when omitted. Thus the following declarations are identical. "
   ]
  },
  {
   "cell_type": "code",
   "execution_count": 1,
   "metadata": {},
   "outputs": [
    {
     "data": {
      "text/plain": []
     },
     "metadata": {},
     "output_type": "display_data"
    }
   ],
   "source": [
    "Fact user \n",
    "Fact user Identified by String"
   ]
  },
  {
   "cell_type": "markdown",
   "metadata": {},
   "source": [
    "#### accumulating clauses\n",
    "The accumulating clauses of a type-declaration can be written in any order. In fact, multiple occurrences of the same accumulating clause can appear in a single type-declarations. Internally, this is realised by considering such clauses as extensions of the type being declared. The following declarations of `admin` are therefore identifical. Accumulating clauses are always written behind domain-related clauses."
   ]
  },
  {
   "cell_type": "code",
   "execution_count": 2,
   "metadata": {},
   "outputs": [
    {
     "data": {
      "text/plain": []
     },
     "metadata": {},
     "output_type": "display_data"
    }
   ],
   "source": [
    "Fact logged-in Identified by user\n",
    "Fact access-rights-of Identified by user * int\n",
    "Fact admin Identified by user\n",
    "  Conditioned by logged-in(user) // can also be comma-separated\n",
    "  Conditioned by access-rights-of(user, 1)"
   ]
  },
  {
   "cell_type": "code",
   "execution_count": 3,
   "metadata": {},
   "outputs": [
    {
     "data": {
      "text/plain": []
     },
     "metadata": {},
     "output_type": "display_data"
    }
   ],
   "source": [
    "Fact admin Identified by user\n",
    "Extend Fact admin\n",
    "  Conditioned by logged-in(user)\n",
    "Extend Fact admin\n",
    "  Conditioned by access-rights-of(user, 1)"
   ]
  },
  {
   "cell_type": "markdown",
   "metadata": {},
   "source": [
    "Accumulating clauses are called accumulating because multiple of these can be written, whether in a single declaration or across various declarations, and their effects accumulate."
   ]
  },
  {
   "cell_type": "markdown",
   "metadata": {},
   "source": [
    "The accumulating clauses of a fact-type declaration are:\n",
    "\n",
    "* Conditioned by\n",
    "* Holds when\n",
    "* Derived from"
   ]
  },
  {
   "cell_type": "markdown",
   "metadata": {},
   "source": [
    "All conditions specified using `Conditioned by` clauses must hold true for an instance of the specified type to be enabled. If (at least) one derivation rule (`Holds when` or `Derived from`) derives an instance of a type then the instance holds true if all its conditions hold true."
   ]
  },
  {
   "cell_type": "markdown",
   "metadata": {},
   "source": [
    "## 1.3 Event-type declarations\n",
    "#### domain-related clauses\n",
    "Instead of `Identified by` even-type declarations use `Related to` followed by a list of comma-separated types specifying the formal parameters of the type, bound in the type's clauses. The `Related to` clauses is optional. When omitted, the defined type has no parameters and has only one instance, identified by the name of the type.\n",
    "#### accumulating clauses\n",
    "The accumulating clauses of an event-type are:\n",
    "* Conditioned by\n",
    "* Holds when\n",
    "* Derived from\n",
    "* Creates\n",
    "* Terminates\n",
    "* Syncs with\n",
    "\n",
    "The effects of all post-conditions (`Creates` and `Terminates` clauses) manifest when an action/event is triggered and all instances computed from `Syncs with` clauses demand synchronisation when an action/event is triggered.\n",
    "\n",
    "## 1.4 Act-type declarations\n",
    "#### domain-related clauses\n",
    "An act-type declaration associates a performing actor and an optional recipient actor with the type using the `Actor` and `Recipient` clauses respectively. Both can be ommitted. If `Actor` is ommitted, it is implicitly present as `Actor actor`, with `actor` a builtin type with values taken from the domain of strings. If `Recipient` is ommitted, then only one actor is associated with the type, namely the performing actor.\n",
    "\n",
    "The one or two actors of an act-type are the first formal parameters of the type. Additional formal parameters can be specified with a `Related to` clause. The domain-related clauses are to be written in the order they are mentioned here.\n",
    "#### accumulating clauses\n",
    "The accumulating clauses of an act-type are:\n",
    "* Conditioned by\n",
    "* Holds when\n",
    "* Derived from\n",
    "* Creates\n",
    "* Terminates\n",
    "* Syncs with\n",
    "\n",
    "The effects of all post-conditions (`Creates` and `Terminates` clauses) manifest when an action/event is triggered and all instances computed from `Syncs with` clauses demand synchronisation when an action/event is triggered."
   ]
  },
  {
   "cell_type": "markdown",
   "metadata": {},
   "source": [
    "## 1.5 Duty-type declarations\n",
    "#### domain-related clauses\n",
    "A duty-type declaration associates a duty-holding actor and a claimant actor with the type using the `Holder` and `Claimant` clauses respectively. Neither can be ommitted. \n",
    "\n",
    "The two actors of a duty-type are the first formal parameters of the type. Additional formal parameters can be specified with a `Related to` clause. The domain-related clauses are to be written in the order they are mentioned here.\n",
    "\n",
    "#### accumulating clauses\n",
    "The accumulating clauses of a duty-type are:\n",
    "* Conditioned by\n",
    "* Holds when\n",
    "* Derived from\n",
    "* Violated when\n",
    "* Enforced by\n",
    "\n",
    "If any of the violation conditions holds true while the duty holds true, the duty is considered violated. Similarly, if any of the actions computed from the expressions written in the `Enforced by` clauses is enabled while the duty holds true, the duty is considered violated."
   ]
  },
  {
   "cell_type": "markdown",
   "metadata": {},
   "source": [
    "## 1.6 Domain constraints\n",
    "Immediately following the domain-related clauses of a type-declaration, an optional *domain constraint* can be written. For example, the domain constraint `Where ...` in the example below ensures that one cannot be once's own parent, i.e. that for all `A`, `parent-of(A,A)` is not a valid instance of the type `parent-of`:"
   ]
  },
  {
   "cell_type": "code",
   "execution_count": 4,
   "metadata": {},
   "outputs": [
    {
     "data": {
      "text/plain": []
     },
     "metadata": {},
     "output_type": "display_data"
    }
   ],
   "source": [
    "Fact person\n",
    "Fact parent-of Identified by person1 * person2 Where person1 != person2"
   ]
  },
  {
   "cell_type": "markdown",
   "metadata": {},
   "source": [
    "The effects of domain-constraints are mostly noticeable when the instances of a type with a domain constraint are enumerable. For example, when executable actions are listed (e.g. in the REPL) or when derivation rules are evaluated. The following extension of `parent-of` makes it that every pair of two different persons are considered each other's parent."
   ]
  },
  {
   "cell_type": "code",
   "execution_count": 5,
   "metadata": {},
   "outputs": [
    {
     "data": {
      "text/plain": [
       "+person(\"Alice\")\n",
       "+person(\"Bob\")\n",
       "+person(\"Chloe\")\n",
       "+parent-of(person(\"Alice\"),person(\"Bob\"))\n",
       "+parent-of(person(\"Alice\"),person(\"Chloe\"))\n",
       "+parent-of(person(\"Bob\"),person(\"Alice\"))\n",
       "+parent-of(person(\"Bob\"),person(\"Chloe\"))\n",
       "+parent-of(person(\"Chloe\"),person(\"Alice\"))\n",
       "+parent-of(person(\"Chloe\"),person(\"Bob\"))\n"
      ]
     },
     "metadata": {},
     "output_type": "display_data"
    },
    {
     "data": {
      "text/plain": []
     },
     "metadata": {},
     "output_type": "display_data"
    }
   ],
   "source": [
    "+person(Alice). +person(Bob). +person(Chloe).\n",
    "Extend Fact parent-of Derived from parent-of(person1, person2)"
   ]
  },
  {
   "cell_type": "markdown",
   "metadata": {},
   "source": [
    "## 1.7 Open and Closed type modifiers\n",
    "Type declarations can be preceded by either the `Closed` or `Open` modifiers, indicating whether the closed-world assumption applies to the type or not (see Section 5). When ommitted, the `Closed` modifier is applied by default."
   ]
  }
 ],
 "metadata": {
  "kernelspec": {
   "display_name": "eFLINT",
   "language": "eFLINT",
   "name": "eflint_kernel"
  },
  "language_info": {
   "codemirror_mode": "null",
   "file_extension": ".txt",
   "mimetype": "x/eflint",
   "name": "eFLINT",
   "pygments_lexer": "Text",
   "version": "1.0.0"
  }
 },
 "nbformat": 4,
 "nbformat_minor": 4
}
