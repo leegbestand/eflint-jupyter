{
 "cells": [
  {
   "cell_type": "markdown",
   "metadata": {},
   "source": [
    "# 2. Conjuctive and disjunctive conditions\n",
    "\n",
    "In previous versions of eFLINT, `Conditioned by` clauses could only be associated with actions to determine whether these actions are `Enabled`, i.e. do *not* cause violations when they are triggered. Experiments showed the value of impliciting using logical conjunction to combine multiple conditions expressed using `Conditioned by`, whether as part of a single declaration or through the use of `Extend`. The combination of the *conjuctive*  `Conditioned by` clauses and the *disjunctive* `Holds when` (and `Derived from`) clauses proved very expressive, in a way that is also useful for other kinds of types. \n",
    "\n",
    "In eFLINT-3.0, the role of `Conditioned by` clauses has changed. These clauses can now also be associated with the other kinds of types, i.e. fact-types, duty-types and event-types. Moreover, they are not only used to determine whether an instance of a type is `Enabled`, but act as a kind of filter on derivation rules. That is, an instance of a type is considered to be *derivable* if one or more of its derivation rules say it is **and** if all conditions of the type are satisfied. (As a consequence, the only difference between `Holds` and `Enabled` is on instances whose truth is postulated rather than derived and whose type has one or more conditions associated with it.)\n",
    "\n",
    "To demonstrate the expressiveness of conjuctive and disjunctive conditions this notebook works out an example of an exception on an exception. "
   ]
  },
  {
   "cell_type": "markdown",
   "metadata": {},
   "source": [
    "Consider the following article about entry requirements on a school:\n",
    "\n",
    "> Article 1) An Applicant can be accepted into St. John's Academy only if they have completed a Primary School with a GPA score of at least 3 as demonstrated by a nationally recognised Diploma.\n",
    "\n",
    "This article lays out a condition (GPA >= 3) that applies to any potential student, irrespective of the source of their eligibilty. Therefore the condition is to be expressed as a conjunctive clause."
   ]
  },
  {
   "cell_type": "code",
   "execution_count": 1,
   "metadata": {},
   "outputs": [
    {
     "data": {
      "text/plain": [
       "+applicant(\"Alice\")\n",
       "+applicant(\"Bob\")\n",
       "+applicant(\"Chloe\")\n",
       "+diploma(primary-school(\"StGeorge\"),applicant(\"Bob\"),gpa(3))\n",
       "+diploma(primary-school(\"StGeorge\"),applicant(\"Chloe\"),gpa(2))\n",
       "+diploma(primary-school(\"StMary\"),applicant(\"Alice\"),gpa(3))\n"
      ]
     },
     "metadata": {},
     "output_type": "display_data"
    },
    {
     "data": {
      "text/plain": [
       "Query success\n",
       "Query success\n",
       "Query success\n"
      ]
     },
     "metadata": {},
     "output_type": "display_data"
    }
   ],
   "source": [
    "Fact applicant\n",
    "Fact primary-school Identified by StMary, StGeorge\n",
    "Fact gpa Identified by 1..4\n",
    "Fact diploma Identified by primary-school * applicant * gpa \n",
    "Fact accepted Identified by applicant\n",
    "\n",
    "Act accept-application Recipient applicant\n",
    "  Holds when applicant                 // contextual condition for the power\n",
    "  Conditioned by diploma() && gpa >= 3 // a valid diploma must exist for this applicant with gpa >= 3\n",
    "  Creates accepted()\n",
    ".\n",
    "+applicant(Alice).\n",
    "+applicant(Bob).\n",
    "+applicant(Chloe).\n",
    "+diploma(StMary, Alice, 3).\n",
    "+diploma(StGeorge, Bob, 3).\n",
    "+diploma(StGeorge, Chloe, 2).\n",
    "?Enabled(accept-application(StJohn, Alice)).\n",
    "?Enabled(accept-application(StJohn, Bob)).\n",
    "?!Enabled(accept-application(StJohn, Chloe))."
   ]
  },
  {
   "cell_type": "markdown",
   "metadata": {},
   "source": [
    "The code cell above shows the eligibility condition of article 1 as a `Conditioned by` on the act-type `accept-application`. Written as such, conditioned can not be 'weakened' without modifying the original code, i.e. by executing an additional declaration. A layer of indirection can be used to avoid this problem by adding a fact-type (`[Article 1]` below) that has its own conditions and derivation rules."
   ]
  },
  {
   "cell_type": "code",
   "execution_count": 2,
   "metadata": {},
   "outputs": [
    {
     "data": {
      "text/plain": [
       "+[Article 1](applicant(\"Alice\"))\n",
       "+[Article 1](applicant(\"Bob\"))\n"
      ]
     },
     "metadata": {},
     "output_type": "display_data"
    },
    {
     "data": {
      "text/plain": [
       "Query success\n",
       "Query success\n",
       "Query success\n"
      ]
     },
     "metadata": {},
     "output_type": "display_data"
    }
   ],
   "source": [
    "Act accept-application Recipient applicant\n",
    "  Holds when applicant // contextual condition for the power\n",
    "  Conditioned by [Article 1]()\n",
    "  \n",
    "Fact [Article 1] \n",
    "  Identified by applicant // identified by all the types bound on the 'call site'\n",
    "  Holds when diploma() && gpa >= 3\n",
    ".\n",
    "?Enabled(accept-application(StJohn, Alice)).\n",
    "?Enabled(accept-application(StJohn, Bob)).\n",
    "?!Enabled(accept-application(StJohn, Chloe))."
   ]
  },
  {
   "cell_type": "markdown",
   "metadata": {},
   "source": [
    "Because the condition expressed in article 1 is now written in a `Holds when` clause, it can be overruled by additional `Holds when` clauses added to the type `[Article 1]`. However, because the article 1 condition is still referred to from a `Conditioned by` clause in `accept-application`, it is still a condition that needs to hold true for all applications that are to be accepted. To see how this works, consider the following exception to article 1 and its formalisation.\n",
    "\n",
    "> Article 2) An exception to Article 1 can be made for all applicants with a Diploma from St. George's Primary School with a GPA of at least 2"
   ]
  },
  {
   "cell_type": "code",
   "execution_count": 3,
   "metadata": {},
   "outputs": [
    {
     "data": {
      "text/plain": [
       "+[Article 2](applicant(\"Bob\"))\n",
       "+[Article 1](applicant(\"Chloe\"))\n",
       "+[Article 2](applicant(\"Chloe\"))\n"
      ]
     },
     "metadata": {},
     "output_type": "display_data"
    },
    {
     "data": {
      "text/plain": [
       "Executed transition: accept-application(actor(\"StJohn\"),applicant(\"Alice\"))\n",
       "Executed transition: accept-application(actor(\"StJohn\"),applicant(\"Bob\"))\n",
       "Query success\n"
      ]
     },
     "metadata": {},
     "output_type": "display_data"
    }
   ],
   "source": [
    "Extend Fact [Article 1] // condition that turns article 1 \"off\"\n",
    "  Holds when [Article 2]()\n",
    "  \n",
    "Fact [Article 2] Identified by applicant\n",
    "  Holds when diploma() && primary-school == StGeorge && gpa >= 2\n",
    ".\n",
    "accept-application(StJohn, Alice).\n",
    "accept-application(StJohn, Bob).\n",
    "?Enabled(accept-application(StJohn, Chloe))."
   ]
  },
  {
   "cell_type": "markdown",
   "metadata": {},
   "source": [
    "Exeptions on Article 2 are possible because the Article 2 exception is itself applied through the indirection suggested for Article 1. For example,\n",
    "\n",
    "> Article 3) However, Article 2 is only applicable for the first applicant from St George's."
   ]
  },
  {
   "cell_type": "code",
   "execution_count": 4,
   "metadata": {},
   "outputs": [
    {
     "data": {
      "text/plain": [
       "~[Article 2](applicant(\"Bob\"))\n",
       "~[Article 1](applicant(\"Chloe\"))\n",
       "~[Article 2](applicant(\"Chloe\"))\n",
       "+[Article 3](applicant(\"Alice\"))\n",
       "+[Article 3](applicant(\"Bob\"))\n",
       "+[Article 3](applicant(\"Chloe\"))\n"
      ]
     },
     "metadata": {},
     "output_type": "display_data"
    },
    {
     "data": {
      "text/plain": [
       "Query success\n"
      ]
     },
     "metadata": {},
     "output_type": "display_data"
    }
   ],
   "source": [
    "Extend Fact [Article 2] \n",
    "  Conditioned by Not([Article 3]())\n",
    "  \n",
    "Fact [Article 3] Identified by applicant\n",
    "  Holds when Not(Exists applicant : accepted() && diploma(primary-school=StGeorge))\n",
    ".\n",
    "?!Enabled(accept-application(StJohn, Chloe))."
   ]
  },
  {
   "cell_type": "markdown",
   "metadata": {},
   "source": [
    "Note that Article 2 is a positive exception and therefore results in an additional `Holds when` clause (disjunctive condition) and that Article 3 is a negative exception and therefore results in an additional `Conditioned by` clause (conjunctive conditions)."
   ]
  }
 ],
 "metadata": {
  "kernelspec": {
   "display_name": "eFLINT",
   "language": "eFLINT",
   "name": "eflint_kernel"
  },
  "language_info": {
   "codemirror_mode": "null",
   "file_extension": ".txt",
   "mimetype": "x/eflint",
   "name": "eFLINT",
   "pygments_lexer": "Text",
   "version": "1.0.0"
  }
 },
 "nbformat": 4,
 "nbformat_minor": 4
}
