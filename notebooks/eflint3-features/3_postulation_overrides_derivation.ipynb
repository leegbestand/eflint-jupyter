{
 "cells": [
  {
   "cell_type": "markdown",
   "metadata": {},
   "source": [
    "# 3. Postulation and derivation\n",
    "In older versions of eFLINT, a strict separation between *postulated types* and *derived types* was in effect. That is, the instances of a type were either added to the knowledge based through the execution of events or actions (postulated) or by a derivation rule (derived). A programmer breaking this rule would notice that facts postulated about types with derivation rules would never appear in the knowledge base (unless also added by a derivation rule).\n",
    "\n",
    "In eflint-3.0, this is no longer the case, owing to an alternative semantics for derivation rules. In the new semantics, an instance is considered to hold true when it is postulated as being true or (when also not postulated as being false) a derivation rule can generate it. \n",
    "\n",
    "This subtle change makes it much simpler to express certain recurring patterns, such as closure relations in which a derivation rule acts as a closure operation. For example, the symmetric relation of being ones neighbour: "
   ]
  },
  {
   "cell_type": "code",
   "execution_count": 1,
   "metadata": {},
   "outputs": [
    {
     "data": {
      "text/plain": []
     },
     "metadata": {},
     "output_type": "display_data"
    }
   ],
   "source": [
    "Fact person Identified by Alice, Bob, Chloe\n",
    "\n",
    "Fact neighbour-of Identified by person1 * person2 Where person1 != person2\n",
    "  Holds when neighbour-of(person2, person1) // symmetry"
   ]
  },
  {
   "cell_type": "markdown",
   "metadata": {},
   "source": [
    "When an individual instance of the `neighbour-of` is postulated to hold true, its reverse also holds true:"
   ]
  },
  {
   "cell_type": "code",
   "execution_count": 2,
   "metadata": {},
   "outputs": [
    {
     "data": {
      "text/plain": [
       "+neighbour-of(person(\"Alice\"),person(\"Bob\"))\n",
       "+neighbour-of(person(\"Bob\"),person(\"Alice\"))\n"
      ]
     },
     "metadata": {},
     "output_type": "display_data"
    },
    {
     "data": {
      "text/plain": []
     },
     "metadata": {},
     "output_type": "display_data"
    }
   ],
   "source": [
    "+neighbour-of(Alice,Bob)"
   ]
  },
  {
   "cell_type": "markdown",
   "metadata": {},
   "source": [
    "As another example, the following code cells defines the symmetric and transitive relation `family-of`:"
   ]
  },
  {
   "cell_type": "code",
   "execution_count": 3,
   "metadata": {},
   "outputs": [
    {
     "data": {
      "text/plain": [
       "+family-of(person(\"Alice\"),person(\"Bob\"))\n",
       "+family-of(person(\"Alice\"),person(\"Chloe\"))\n",
       "+family-of(person(\"Bob\"),person(\"Alice\"))\n",
       "+family-of(person(\"Bob\"),person(\"Chloe\"))\n",
       "+family-of(person(\"Chloe\"),person(\"Alice\"))\n",
       "+family-of(person(\"Chloe\"),person(\"Bob\"))\n"
      ]
     },
     "metadata": {},
     "output_type": "display_data"
    },
    {
     "data": {
      "text/plain": []
     },
     "metadata": {},
     "output_type": "display_data"
    }
   ],
   "source": [
    "Fact family-of Identified by person1 * person2 Where person1 != person2\n",
    "  Holds when family-of(person2, person1) // symmetry\n",
    "           , family-of(person2, person3) && family-of(person3,person1). // transitivity\n",
    "\n",
    "+family-of(Alice,Bob).\n",
    "+family-of(Bob, Chloe)."
   ]
  },
  {
   "cell_type": "markdown",
   "metadata": {},
   "source": [
    "Old code in which a strict separation between postulated and derived types was maintained is unaffected by this change."
   ]
  },
  {
   "cell_type": "markdown",
   "metadata": {},
   "source": [
    "### warning"
   ]
  },
  {
   "cell_type": "markdown",
   "metadata": {},
   "source": [
    "The current implementation is very naïve, e.g. it does not use caching of any kind. Therefore combinatorial explosing is a risk, as demonstrated by the following change to the domain of discourse:"
   ]
  },
  {
   "cell_type": "code",
   "execution_count": 4,
   "metadata": {},
   "outputs": [
    {
     "data": {
      "text/plain": []
     },
     "metadata": {},
     "output_type": "display_data"
    }
   ],
   "source": [
    "Fact person Identified by Alice, Bob, Chloe, David"
   ]
  }
 ],
 "metadata": {
  "kernelspec": {
   "display_name": "eFLINT",
   "language": "eFLINT",
   "name": "eflint_kernel"
  },
  "language_info": {
   "codemirror_mode": "null",
   "file_extension": ".txt",
   "mimetype": "x/eflint",
   "name": "eFLINT",
   "pygments_lexer": "Text",
   "version": "1.0.0"
  }
 },
 "nbformat": 4,
 "nbformat_minor": 4
}
