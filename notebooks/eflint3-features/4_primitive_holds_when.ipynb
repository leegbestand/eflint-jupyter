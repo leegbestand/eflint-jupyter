{
 "cells": [
  {
   "cell_type": "markdown",
   "metadata": {},
   "source": [
    "# 4. Holds when clauses for primitive types\n",
    "A `Holds when` clause is a specific form of derivation rule that allows the programmer to express when instances of the type hold directly in terms of the fields of the instance, i.e. an instance `f(x=X,y=Y,z=Z)` can be said to hold when some expression `Expr` holds, where Expr can use the variables `x`, `y`, and `z` to refer to the fields `X`, `Y` and `Z`.\n",
    "\n",
    "As such, the following two declarations of `f` and `g` are equivalent."
   ]
  },
  {
   "cell_type": "code",
   "execution_count": 1,
   "metadata": {},
   "outputs": [
    {
     "data": {
      "text/plain": []
     },
     "metadata": {},
     "output_type": "display_data"
    }
   ],
   "source": [
    "Fact x Identified by 1..3\n",
    "Fact y Identified by 1..3\n",
    "Fact z Identified by 1..3"
   ]
  },
  {
   "cell_type": "code",
   "execution_count": 2,
   "metadata": {},
   "outputs": [
    {
     "data": {
      "text/plain": [
       "+f(x(1),y(1),z(2))\n",
       "+f(x(1),y(1),z(3))\n",
       "+f(x(2),y(2),z(1))\n",
       "+f(x(2),y(2),z(3))\n",
       "+f(x(3),y(3),z(1))\n",
       "+f(x(3),y(3),z(2))\n"
      ]
     },
     "metadata": {},
     "output_type": "display_data"
    },
    {
     "data": {
      "text/plain": []
     },
     "metadata": {},
     "output_type": "display_data"
    }
   ],
   "source": [
    "Fact f Identified by x * y * z\n",
    "  Derived from f(x,y,z) When x == y && y != z"
   ]
  },
  {
   "cell_type": "code",
   "execution_count": 3,
   "metadata": {},
   "outputs": [
    {
     "data": {
      "text/plain": [
       "+g(x(1),y(1),z(2))\n",
       "+g(x(1),y(1),z(3))\n",
       "+g(x(2),y(2),z(1))\n",
       "+g(x(2),y(2),z(3))\n",
       "+g(x(3),y(3),z(1))\n",
       "+g(x(3),y(3),z(2))\n"
      ]
     },
     "metadata": {},
     "output_type": "display_data"
    },
    {
     "data": {
      "text/plain": []
     },
     "metadata": {},
     "output_type": "display_data"
    }
   ],
   "source": [
    "Fact g Identified by x * y * z\n",
    "  Holds when x == y && y != z"
   ]
  },
  {
   "cell_type": "markdown",
   "metadata": {},
   "source": [
    "Note that in the evaluation expression of a `Derived from` clause, parameters are not bound. That is, in the example above, `x`, `y` and `z` are bound by an implicit occurrence of `Foreach` as would any other variable occurring in the expression. Following these same semantics, a derivation rule can also be written for a primitive type."
   ]
  },
  {
   "cell_type": "code",
   "execution_count": 4,
   "metadata": {},
   "outputs": [
    {
     "data": {
      "text/plain": [
       "+even(2)\n",
       "+even(4)\n",
       "+even(6)\n"
      ]
     },
     "metadata": {},
     "output_type": "display_data"
    },
    {
     "data": {
      "text/plain": []
     },
     "metadata": {},
     "output_type": "display_data"
    }
   ],
   "source": [
    "Fact even Identified by 1..6\n",
    "  Derived from even When even % 2 == 0"
   ]
  },
  {
   "cell_type": "markdown",
   "metadata": {},
   "source": [
    "In previous versions of eFLINT however, it was not possible to write the equivalent definition with a `Holds when` clause containing the expression `even % 2 == 0` because `even` was considered unbound. This was the case because `even` is not a parameter of the type `even`...   \n",
    "Intead, in the new semantics of `Holds when` clauses for primitive types, the name of the defined type is considered to be bound to the instance `<T>(<V>)`, where `T` is the name of the type (used as a primitive constructor) and `V` is any of the values from the domain of the type:"
   ]
  },
  {
   "cell_type": "code",
   "execution_count": 5,
   "metadata": {},
   "outputs": [
    {
     "data": {
      "text/plain": [
       "+also-even(2)\n",
       "+also-even(4)\n",
       "+also-even(6)\n"
      ]
     },
     "metadata": {},
     "output_type": "display_data"
    },
    {
     "data": {
      "text/plain": []
     },
     "metadata": {},
     "output_type": "display_data"
    }
   ],
   "source": [
    "Fact also-even Identified by 1..6\n",
    "  Holds when also-even % 2 == 0"
   ]
  }
 ],
 "metadata": {
  "kernelspec": {
   "display_name": "eFLINT",
   "language": "eFLINT",
   "name": "eflint_kernel"
  },
  "language_info": {
   "codemirror_mode": "null",
   "file_extension": ".txt",
   "mimetype": "x/eflint",
   "name": "eFLINT",
   "pygments_lexer": "Text",
   "version": "1.0.0"
  }
 },
 "nbformat": 4,
 "nbformat_minor": 4
}
