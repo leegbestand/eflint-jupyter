{
 "cells": [
  {
   "cell_type": "markdown",
   "metadata": {},
   "source": [
    "# 5. Open types\n",
    "\n",
    "Consider again the (modified) example from Section 2, in which eligibility for acceptance into St. John's secondary school was to specified:"
   ]
  },
  {
   "cell_type": "code",
   "execution_count": 1,
   "metadata": {},
   "outputs": [
    {
     "data": {
      "text/plain": [
       "+applicant(\"Alice\")\n",
       "+applicant(\"Bob\")\n",
       "+applicant(\"Chloe\")\n",
       "+diploma(primary-school(\"StGeorge\"),applicant(\"Bob\"),gpa(3))\n",
       "+diploma(primary-school(\"StGeorge\"),applicant(\"Chloe\"),gpa(2))\n",
       "+diploma(primary-school(\"StMary\"),applicant(\"Alice\"),gpa(3))\n"
      ]
     },
     "metadata": {},
     "output_type": "display_data"
    },
    {
     "data": {
      "text/plain": [
       "Query failed\n",
       "Query failed\n",
       "Query success\n"
      ]
     },
     "metadata": {},
     "output_type": "display_data"
    }
   ],
   "source": [
    "Fact applicant\n",
    "Fact primary-school Identified by StMary, StGeorge\n",
    "Fact gpa Identified by 1..4\n",
    "Fact diploma Identified by primary-school * applicant * gpa \n",
    "Fact application Identified by applicant * diploma\n",
    "Fact accepted Identified by applicant\n",
    "\n",
    "Act accept-application Related to application\n",
    "  Holds when application             \n",
    "  Conditioned by application.diploma && diploma.gpa >= 3\n",
    "  Creates accepted()\n",
    ".\n",
    "+applicant(Alice).\n",
    "+applicant(Bob).\n",
    "+applicant(Chloe).\n",
    "+diploma(StMary, Alice, 3).\n",
    "+diploma(StGeorge, Bob, 3).\n",
    "+diploma(StGeorge, Chloe, 2).\n",
    "?Enabled(accept-application(StJohn, application(Alice, diploma(StMary, Alice, 3)))).\n",
    "?Enabled(accept-application(StJohn, application(Bob, diploma(StGeorge, Bob, 3)))).\n",
    "?!Enabled(accept-application(StJohn, application(Chloe, diploma(StGeorge, Chloe, 2))))."
   ]
  },
  {
   "cell_type": "markdown",
   "metadata": {},
   "source": [
    "The previous code fragment checks whether Alice, Bob and/or Chloe can be accepted into the school based on their diplomas and whether they are already considered applicants of the school. These two kinds of facts of the case -- recognised diplomas and being an applicant -- are very different in nature in that the school can be expected to know the latter kind (based on an application letter, for example) but may have to rely on some external authority to determine whether the diplomas are valid and indeed handed out by the corresponding primary-school.\n",
    "\n",
    "If we imagine an eFLINT service running within the local network of St. John's, then the information about applicants can come from within that network, for example, by triggering the action `send-application-letter`."
   ]
  },
  {
   "cell_type": "code",
   "execution_count": 2,
   "metadata": {},
   "outputs": [
    {
     "data": {
      "text/plain": [
       "+application(applicant(\"David\"),diploma(primary-school(\"StMary\"),applicant(\"David\"),gpa(4)))\n"
      ]
     },
     "metadata": {},
     "output_type": "display_data"
    },
    {
     "data": {
      "text/plain": [
       "Executed transition: send-application-letter(applicant(\"David\"),diploma(primary-school(\"StMary\"),applicant(\"David\"),gpa(4)))\n"
      ]
     },
     "metadata": {},
     "output_type": "display_data"
    }
   ],
   "source": [
    "Act send-application-letter Actor applicant Related to diploma\n",
    "  Holds when !applicant // always enabled for non-applicants\n",
    "  Creates application()\n",
    ".\n",
    "send-application-letter(David, diploma(StMary, David, 4))"
   ]
  },
  {
   "cell_type": "markdown",
   "metadata": {},
   "source": [
    "When specifying the policy of St. John's in eFLINT, we can decide we have confidence in the school's application-processing software to reliably send updates about received letters to the eFLINT service (perhaps because both services are under our full control). In these conditions, it is safe to apply the **closed-world assumption** to instances of the type `applicant` -- if the eFLINT services does not know `X` applied, then `X` did indeed not apply. \n",
    "\n",
    "The same cannot be said for the validity of diplomas and we may wish to verify that the primary-school did indeed issue this exact diploma. To support such situations, types can be declared as being 'open' (with the `Open` modifier, see subsection 1.7)."
   ]
  },
  {
   "cell_type": "code",
   "execution_count": 3,
   "metadata": {},
   "outputs": [
    {
     "data": {
      "text/plain": []
     },
     "metadata": {},
     "output_type": "display_data"
    }
   ],
   "source": [
    "Open Fact diploma Identified by primary-school * applicant * gpa"
   ]
  },
  {
   "cell_type": "markdown",
   "metadata": {},
   "source": [
    "To determine whether a particular instance of an open type holds true, it is checked whether it is stated being as true (or false) within the *input* provided alongside the phrase being executed, then whether it is stated as being true (or false) within the current knowledge base, then whether it can be derived as holding true, and finally, if neither of the aforementioned yielded a truth value, then a \"missing input\" exception is thrown."
   ]
  },
  {
   "cell_type": "code",
   "execution_count": 4,
   "metadata": {},
   "outputs": [
    {
     "data": {
      "text/plain": [
       "Query failed\n",
       "Query failed\n",
       "Query success\n",
       "missing input assignment for: diploma(primary-school(\"StMary\"),applicant(\"David\"),gpa(4))\n"
      ]
     },
     "metadata": {},
     "output_type": "display_data"
    }
   ],
   "source": [
    "?Enabled(accept-application(StJohn, application(Alice, diploma(StMary, Alice, 3)))).\n",
    "?Enabled(accept-application(StJohn, application(Bob, diploma(StGeorge, Bob, 3)))).\n",
    "?!Enabled(accept-application(StJohn, application(Chloe, diploma(StGeorge, Chloe, 2)))).\n",
    "?!Enabled(accept-application(StJohn, application(David, diploma(StMary, David, 4))))."
   ]
  },
  {
   "cell_type": "markdown",
   "metadata": {},
   "source": [
    "This information feeds back into the execution context (e.g. the eFLINT service) and might trigger the execution of a handler to provide the missing information (e.g. a notification sent to an employee of the school to reach out to primary school for validation).\n",
    "\n",
    "In the `eflint-repl`, a recursive prompt starts to ask the programmer for any assignments for missing input whenever instances of open types were evaluated during the execution of a phrase. This prompt repeatedly asks the programmer to provide the input for instances of open types that are required to complete the execution of the phrase until all missing input is given.\n",
    "\n",
    "A future version of the Jupyter Kernel for eFLINT may support one or more approaches to providing input and handling missing input.\n",
    "\n",
    "Note that the input mechanism can be used to replace the internal knowledge base of eFLINT entirely, effectively creating an external knowledge base (e.g. in the form of a persistent database)."
   ]
  }
 ],
 "metadata": {
  "kernelspec": {
   "display_name": "eFLINT",
   "language": "eFLINT",
   "name": "eflint_kernel"
  },
  "language_info": {
   "codemirror_mode": "null",
   "file_extension": ".txt",
   "mimetype": "x/eflint",
   "name": "eFLINT",
   "pygments_lexer": "Text",
   "version": "1.0.0"
  }
 },
 "nbformat": 4,
 "nbformat_minor": 4
}
